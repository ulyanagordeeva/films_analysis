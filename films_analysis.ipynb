{
 "cells": [
  {
   "cell_type": "markdown",
   "id": "16f47f56",
   "metadata": {},
   "source": [
    "# Этап 1. Обработка данных"
   ]
  },
  {
   "cell_type": "markdown",
   "id": "81eb323b",
   "metadata": {},
   "source": [
    "### Импорт библиотек и просмотр данных"
   ]
  },
  {
   "cell_type": "code",
   "execution_count": 2,
   "id": "fa155089",
   "metadata": {},
   "outputs": [],
   "source": [
    "import warnings\n",
    "import pandas as pd\n",
    "import numpy as np\n",
    "import matplotlib.pyplot as plt\n",
    "import seaborn as sns"
   ]
  },
  {
   "cell_type": "code",
   "execution_count": 3,
   "id": "ac1bc200",
   "metadata": {},
   "outputs": [],
   "source": [
    "films = pd.read_csv('tmdb_5000_movies.csv')"
   ]
  },
  {
   "cell_type": "code",
   "execution_count": 3,
   "id": "21e15e7f",
   "metadata": {},
   "outputs": [
    {
     "data": {
      "text/html": [
       "<div>\n",
       "<style scoped>\n",
       "    .dataframe tbody tr th:only-of-type {\n",
       "        vertical-align: middle;\n",
       "    }\n",
       "\n",
       "    .dataframe tbody tr th {\n",
       "        vertical-align: top;\n",
       "    }\n",
       "\n",
       "    .dataframe thead th {\n",
       "        text-align: right;\n",
       "    }\n",
       "</style>\n",
       "<table border=\"1\" class=\"dataframe\">\n",
       "  <thead>\n",
       "    <tr style=\"text-align: right;\">\n",
       "      <th></th>\n",
       "      <th>budget</th>\n",
       "      <th>genres</th>\n",
       "      <th>homepage</th>\n",
       "      <th>id</th>\n",
       "      <th>keywords</th>\n",
       "      <th>original_language</th>\n",
       "      <th>original_title</th>\n",
       "      <th>overview</th>\n",
       "      <th>popularity</th>\n",
       "      <th>production_companies</th>\n",
       "      <th>production_countries</th>\n",
       "      <th>release_date</th>\n",
       "      <th>revenue</th>\n",
       "      <th>runtime</th>\n",
       "      <th>spoken_languages</th>\n",
       "      <th>status</th>\n",
       "      <th>tagline</th>\n",
       "      <th>title</th>\n",
       "      <th>vote_average</th>\n",
       "      <th>vote_count</th>\n",
       "    </tr>\n",
       "  </thead>\n",
       "  <tbody>\n",
       "    <tr>\n",
       "      <th>0</th>\n",
       "      <td>237000000</td>\n",
       "      <td>[{\"id\": 28, \"name\": \"Action\"}, {\"id\": 12, \"nam...</td>\n",
       "      <td>http://www.avatarmovie.com/</td>\n",
       "      <td>19995</td>\n",
       "      <td>[{\"id\": 1463, \"name\": \"culture clash\"}, {\"id\":...</td>\n",
       "      <td>en</td>\n",
       "      <td>Avatar</td>\n",
       "      <td>In the 22nd century, a paraplegic Marine is di...</td>\n",
       "      <td>150.437577</td>\n",
       "      <td>[{\"name\": \"Ingenious Film Partners\", \"id\": 289...</td>\n",
       "      <td>[{\"iso_3166_1\": \"US\", \"name\": \"United States o...</td>\n",
       "      <td>2009-12-10</td>\n",
       "      <td>2787965087</td>\n",
       "      <td>162.0</td>\n",
       "      <td>[{\"iso_639_1\": \"en\", \"name\": \"English\"}, {\"iso...</td>\n",
       "      <td>Released</td>\n",
       "      <td>Enter the World of Pandora.</td>\n",
       "      <td>Avatar</td>\n",
       "      <td>7.2</td>\n",
       "      <td>11800</td>\n",
       "    </tr>\n",
       "    <tr>\n",
       "      <th>1</th>\n",
       "      <td>300000000</td>\n",
       "      <td>[{\"id\": 12, \"name\": \"Adventure\"}, {\"id\": 14, \"...</td>\n",
       "      <td>http://disney.go.com/disneypictures/pirates/</td>\n",
       "      <td>285</td>\n",
       "      <td>[{\"id\": 270, \"name\": \"ocean\"}, {\"id\": 726, \"na...</td>\n",
       "      <td>en</td>\n",
       "      <td>Pirates of the Caribbean: At World's End</td>\n",
       "      <td>Captain Barbossa, long believed to be dead, ha...</td>\n",
       "      <td>139.082615</td>\n",
       "      <td>[{\"name\": \"Walt Disney Pictures\", \"id\": 2}, {\"...</td>\n",
       "      <td>[{\"iso_3166_1\": \"US\", \"name\": \"United States o...</td>\n",
       "      <td>2007-05-19</td>\n",
       "      <td>961000000</td>\n",
       "      <td>169.0</td>\n",
       "      <td>[{\"iso_639_1\": \"en\", \"name\": \"English\"}]</td>\n",
       "      <td>Released</td>\n",
       "      <td>At the end of the world, the adventure begins.</td>\n",
       "      <td>Pirates of the Caribbean: At World's End</td>\n",
       "      <td>6.9</td>\n",
       "      <td>4500</td>\n",
       "    </tr>\n",
       "    <tr>\n",
       "      <th>2</th>\n",
       "      <td>245000000</td>\n",
       "      <td>[{\"id\": 28, \"name\": \"Action\"}, {\"id\": 12, \"nam...</td>\n",
       "      <td>http://www.sonypictures.com/movies/spectre/</td>\n",
       "      <td>206647</td>\n",
       "      <td>[{\"id\": 470, \"name\": \"spy\"}, {\"id\": 818, \"name...</td>\n",
       "      <td>en</td>\n",
       "      <td>Spectre</td>\n",
       "      <td>A cryptic message from Bond’s past sends him o...</td>\n",
       "      <td>107.376788</td>\n",
       "      <td>[{\"name\": \"Columbia Pictures\", \"id\": 5}, {\"nam...</td>\n",
       "      <td>[{\"iso_3166_1\": \"GB\", \"name\": \"United Kingdom\"...</td>\n",
       "      <td>2015-10-26</td>\n",
       "      <td>880674609</td>\n",
       "      <td>148.0</td>\n",
       "      <td>[{\"iso_639_1\": \"fr\", \"name\": \"Fran\\u00e7ais\"},...</td>\n",
       "      <td>Released</td>\n",
       "      <td>A Plan No One Escapes</td>\n",
       "      <td>Spectre</td>\n",
       "      <td>6.3</td>\n",
       "      <td>4466</td>\n",
       "    </tr>\n",
       "    <tr>\n",
       "      <th>3</th>\n",
       "      <td>250000000</td>\n",
       "      <td>[{\"id\": 28, \"name\": \"Action\"}, {\"id\": 80, \"nam...</td>\n",
       "      <td>http://www.thedarkknightrises.com/</td>\n",
       "      <td>49026</td>\n",
       "      <td>[{\"id\": 849, \"name\": \"dc comics\"}, {\"id\": 853,...</td>\n",
       "      <td>en</td>\n",
       "      <td>The Dark Knight Rises</td>\n",
       "      <td>Following the death of District Attorney Harve...</td>\n",
       "      <td>112.312950</td>\n",
       "      <td>[{\"name\": \"Legendary Pictures\", \"id\": 923}, {\"...</td>\n",
       "      <td>[{\"iso_3166_1\": \"US\", \"name\": \"United States o...</td>\n",
       "      <td>2012-07-16</td>\n",
       "      <td>1084939099</td>\n",
       "      <td>165.0</td>\n",
       "      <td>[{\"iso_639_1\": \"en\", \"name\": \"English\"}]</td>\n",
       "      <td>Released</td>\n",
       "      <td>The Legend Ends</td>\n",
       "      <td>The Dark Knight Rises</td>\n",
       "      <td>7.6</td>\n",
       "      <td>9106</td>\n",
       "    </tr>\n",
       "    <tr>\n",
       "      <th>4</th>\n",
       "      <td>260000000</td>\n",
       "      <td>[{\"id\": 28, \"name\": \"Action\"}, {\"id\": 12, \"nam...</td>\n",
       "      <td>http://movies.disney.com/john-carter</td>\n",
       "      <td>49529</td>\n",
       "      <td>[{\"id\": 818, \"name\": \"based on novel\"}, {\"id\":...</td>\n",
       "      <td>en</td>\n",
       "      <td>John Carter</td>\n",
       "      <td>John Carter is a war-weary, former military ca...</td>\n",
       "      <td>43.926995</td>\n",
       "      <td>[{\"name\": \"Walt Disney Pictures\", \"id\": 2}]</td>\n",
       "      <td>[{\"iso_3166_1\": \"US\", \"name\": \"United States o...</td>\n",
       "      <td>2012-03-07</td>\n",
       "      <td>284139100</td>\n",
       "      <td>132.0</td>\n",
       "      <td>[{\"iso_639_1\": \"en\", \"name\": \"English\"}]</td>\n",
       "      <td>Released</td>\n",
       "      <td>Lost in our world, found in another.</td>\n",
       "      <td>John Carter</td>\n",
       "      <td>6.1</td>\n",
       "      <td>2124</td>\n",
       "    </tr>\n",
       "  </tbody>\n",
       "</table>\n",
       "</div>"
      ],
      "text/plain": [
       "      budget                                             genres  \\\n",
       "0  237000000  [{\"id\": 28, \"name\": \"Action\"}, {\"id\": 12, \"nam...   \n",
       "1  300000000  [{\"id\": 12, \"name\": \"Adventure\"}, {\"id\": 14, \"...   \n",
       "2  245000000  [{\"id\": 28, \"name\": \"Action\"}, {\"id\": 12, \"nam...   \n",
       "3  250000000  [{\"id\": 28, \"name\": \"Action\"}, {\"id\": 80, \"nam...   \n",
       "4  260000000  [{\"id\": 28, \"name\": \"Action\"}, {\"id\": 12, \"nam...   \n",
       "\n",
       "                                       homepage      id  \\\n",
       "0                   http://www.avatarmovie.com/   19995   \n",
       "1  http://disney.go.com/disneypictures/pirates/     285   \n",
       "2   http://www.sonypictures.com/movies/spectre/  206647   \n",
       "3            http://www.thedarkknightrises.com/   49026   \n",
       "4          http://movies.disney.com/john-carter   49529   \n",
       "\n",
       "                                            keywords original_language  \\\n",
       "0  [{\"id\": 1463, \"name\": \"culture clash\"}, {\"id\":...                en   \n",
       "1  [{\"id\": 270, \"name\": \"ocean\"}, {\"id\": 726, \"na...                en   \n",
       "2  [{\"id\": 470, \"name\": \"spy\"}, {\"id\": 818, \"name...                en   \n",
       "3  [{\"id\": 849, \"name\": \"dc comics\"}, {\"id\": 853,...                en   \n",
       "4  [{\"id\": 818, \"name\": \"based on novel\"}, {\"id\":...                en   \n",
       "\n",
       "                             original_title  \\\n",
       "0                                    Avatar   \n",
       "1  Pirates of the Caribbean: At World's End   \n",
       "2                                   Spectre   \n",
       "3                     The Dark Knight Rises   \n",
       "4                               John Carter   \n",
       "\n",
       "                                            overview  popularity  \\\n",
       "0  In the 22nd century, a paraplegic Marine is di...  150.437577   \n",
       "1  Captain Barbossa, long believed to be dead, ha...  139.082615   \n",
       "2  A cryptic message from Bond’s past sends him o...  107.376788   \n",
       "3  Following the death of District Attorney Harve...  112.312950   \n",
       "4  John Carter is a war-weary, former military ca...   43.926995   \n",
       "\n",
       "                                production_companies  \\\n",
       "0  [{\"name\": \"Ingenious Film Partners\", \"id\": 289...   \n",
       "1  [{\"name\": \"Walt Disney Pictures\", \"id\": 2}, {\"...   \n",
       "2  [{\"name\": \"Columbia Pictures\", \"id\": 5}, {\"nam...   \n",
       "3  [{\"name\": \"Legendary Pictures\", \"id\": 923}, {\"...   \n",
       "4        [{\"name\": \"Walt Disney Pictures\", \"id\": 2}]   \n",
       "\n",
       "                                production_countries release_date     revenue  \\\n",
       "0  [{\"iso_3166_1\": \"US\", \"name\": \"United States o...   2009-12-10  2787965087   \n",
       "1  [{\"iso_3166_1\": \"US\", \"name\": \"United States o...   2007-05-19   961000000   \n",
       "2  [{\"iso_3166_1\": \"GB\", \"name\": \"United Kingdom\"...   2015-10-26   880674609   \n",
       "3  [{\"iso_3166_1\": \"US\", \"name\": \"United States o...   2012-07-16  1084939099   \n",
       "4  [{\"iso_3166_1\": \"US\", \"name\": \"United States o...   2012-03-07   284139100   \n",
       "\n",
       "   runtime                                   spoken_languages    status  \\\n",
       "0    162.0  [{\"iso_639_1\": \"en\", \"name\": \"English\"}, {\"iso...  Released   \n",
       "1    169.0           [{\"iso_639_1\": \"en\", \"name\": \"English\"}]  Released   \n",
       "2    148.0  [{\"iso_639_1\": \"fr\", \"name\": \"Fran\\u00e7ais\"},...  Released   \n",
       "3    165.0           [{\"iso_639_1\": \"en\", \"name\": \"English\"}]  Released   \n",
       "4    132.0           [{\"iso_639_1\": \"en\", \"name\": \"English\"}]  Released   \n",
       "\n",
       "                                          tagline  \\\n",
       "0                     Enter the World of Pandora.   \n",
       "1  At the end of the world, the adventure begins.   \n",
       "2                           A Plan No One Escapes   \n",
       "3                                 The Legend Ends   \n",
       "4            Lost in our world, found in another.   \n",
       "\n",
       "                                      title  vote_average  vote_count  \n",
       "0                                    Avatar           7.2       11800  \n",
       "1  Pirates of the Caribbean: At World's End           6.9        4500  \n",
       "2                                   Spectre           6.3        4466  \n",
       "3                     The Dark Knight Rises           7.6        9106  \n",
       "4                               John Carter           6.1        2124  "
      ]
     },
     "execution_count": 3,
     "metadata": {},
     "output_type": "execute_result"
    }
   ],
   "source": [
    "films.head()"
   ]
  },
  {
   "cell_type": "code",
   "execution_count": 4,
   "id": "6f6b36eb",
   "metadata": {},
   "outputs": [
    {
     "name": "stdout",
     "output_type": "stream",
     "text": [
      "<class 'pandas.core.frame.DataFrame'>\n",
      "RangeIndex: 4803 entries, 0 to 4802\n",
      "Data columns (total 20 columns):\n",
      " #   Column                Non-Null Count  Dtype  \n",
      "---  ------                --------------  -----  \n",
      " 0   budget                4803 non-null   int64  \n",
      " 1   genres                4803 non-null   object \n",
      " 2   homepage              1712 non-null   object \n",
      " 3   id                    4803 non-null   int64  \n",
      " 4   keywords              4803 non-null   object \n",
      " 5   original_language     4803 non-null   object \n",
      " 6   original_title        4803 non-null   object \n",
      " 7   overview              4800 non-null   object \n",
      " 8   popularity            4803 non-null   float64\n",
      " 9   production_companies  4803 non-null   object \n",
      " 10  production_countries  4803 non-null   object \n",
      " 11  release_date          4802 non-null   object \n",
      " 12  revenue               4803 non-null   int64  \n",
      " 13  runtime               4801 non-null   float64\n",
      " 14  spoken_languages      4803 non-null   object \n",
      " 15  status                4803 non-null   object \n",
      " 16  tagline               3959 non-null   object \n",
      " 17  title                 4803 non-null   object \n",
      " 18  vote_average          4803 non-null   float64\n",
      " 19  vote_count            4803 non-null   int64  \n",
      "dtypes: float64(3), int64(4), object(13)\n",
      "memory usage: 750.6+ KB\n"
     ]
    }
   ],
   "source": [
    "films.info()"
   ]
  },
  {
   "cell_type": "code",
   "execution_count": 5,
   "id": "ff06fb83",
   "metadata": {},
   "outputs": [
    {
     "data": {
      "text/plain": [
       "Index(['budget', 'genres', 'homepage', 'id', 'keywords', 'original_language',\n",
       "       'original_title', 'overview', 'popularity', 'production_companies',\n",
       "       'production_countries', 'release_date', 'revenue', 'runtime',\n",
       "       'spoken_languages', 'status', 'tagline', 'title', 'vote_average',\n",
       "       'vote_count'],\n",
       "      dtype='object')"
      ]
     },
     "execution_count": 5,
     "metadata": {},
     "output_type": "execute_result"
    }
   ],
   "source": [
    "films.columns"
   ]
  },
  {
   "cell_type": "markdown",
   "id": "4e47aa17",
   "metadata": {},
   "source": [
    "Удаляем неинформативные колонки"
   ]
  },
  {
   "cell_type": "code",
   "execution_count": 4,
   "id": "21435a40",
   "metadata": {},
   "outputs": [],
   "source": [
    "films.drop(columns=['homepage', 'overview', 'tagline', 'original_title', 'spoken_languages','id'], inplace=True)"
   ]
  },
  {
   "cell_type": "markdown",
   "id": "8f6561b9",
   "metadata": {},
   "source": [
    "Для удобства просмотра данных меняем местами колонки"
   ]
  },
  {
   "cell_type": "code",
   "execution_count": 5,
   "id": "f49a3e96",
   "metadata": {},
   "outputs": [],
   "source": [
    "films = films[['title', 'release_date', 'genres', 'keywords', 'runtime', 'status', 'budget', \n",
    "              'revenue', 'production_companies', 'production_countries', 'original_language', \n",
    "              'popularity', 'vote_count', 'vote_average']]"
   ]
  },
  {
   "cell_type": "markdown",
   "id": "460c2b5b",
   "metadata": {},
   "source": [
    "### Предобработка данных"
   ]
  },
  {
   "cell_type": "markdown",
   "id": "492a09a9",
   "metadata": {},
   "source": [
    "В колонках genres, keywords, production_companies, production_countries не списки, а строки. Это неудобно для извлечения нужной информации и дальнейшего анализа. Преобразуем эти столбцы"
   ]
  },
  {
   "cell_type": "code",
   "execution_count": 26,
   "id": "2d7fc352",
   "metadata": {},
   "outputs": [
    {
     "data": {
      "text/plain": [
       "str"
      ]
     },
     "execution_count": 26,
     "metadata": {},
     "output_type": "execute_result"
    }
   ],
   "source": [
    "type(films['genres'][0])"
   ]
  },
  {
   "cell_type": "code",
   "execution_count": 27,
   "id": "422b5983",
   "metadata": {},
   "outputs": [
    {
     "data": {
      "text/plain": [
       "str"
      ]
     },
     "execution_count": 27,
     "metadata": {},
     "output_type": "execute_result"
    }
   ],
   "source": [
    "type(films['production_companies'][0])"
   ]
  },
  {
   "cell_type": "code",
   "execution_count": 28,
   "id": "5a428ede",
   "metadata": {},
   "outputs": [
    {
     "data": {
      "text/plain": [
       "str"
      ]
     },
     "execution_count": 28,
     "metadata": {},
     "output_type": "execute_result"
    }
   ],
   "source": [
    "type(films['production_countries'][0])"
   ]
  },
  {
   "cell_type": "code",
   "execution_count": 22,
   "id": "dac08212",
   "metadata": {},
   "outputs": [
    {
     "data": {
      "text/plain": [
       "str"
      ]
     },
     "execution_count": 22,
     "metadata": {},
     "output_type": "execute_result"
    }
   ],
   "source": [
    "type(films['keywords'][0])"
   ]
  },
  {
   "cell_type": "code",
   "execution_count": 6,
   "id": "af61cb39",
   "metadata": {},
   "outputs": [],
   "source": [
    "def clean(text):\n",
    "    chars = '\"\\\\`*_{}[]()#+-.,!\":;1234567890'\n",
    "    for c in chars:\n",
    "        text = text.replace(c, '')\n",
    "    return text"
   ]
  },
  {
   "cell_type": "code",
   "execution_count": 7,
   "id": "8492e82d",
   "metadata": {},
   "outputs": [],
   "source": [
    "warnings.filterwarnings(\"ignore\")\n",
    "for i in range(len(films['genres'])):\n",
    "    if films['genres'][i] == '[]':\n",
    "        films['genres'][i] = None\n",
    "    else:\n",
    "        films['genres'][i] = clean(films['genres'][i])\n",
    "        films['genres'][i] = films['genres'][i].replace('name', '')\n",
    "        films['genres'][i] = films['genres'][i].replace('id', '')\n",
    "        films['genres'][i] = films['genres'][i].split('    ')\n",
    "        for y in range(len(films['genres'][i])):\n",
    "            films['genres'][i][y] = films['genres'][i][y].lstrip()\n",
    "            films['genres'][i][y] = films['genres'][i][y].rstrip()"
   ]
  },
  {
   "cell_type": "code",
   "execution_count": 8,
   "id": "e5f3633a",
   "metadata": {},
   "outputs": [],
   "source": [
    "warnings.filterwarnings(\"ignore\")\n",
    "for i in range(len(films['keywords'])):\n",
    "    if films['keywords'][i] == '[]':\n",
    "        films['keywords'][i] = None\n",
    "    else:\n",
    "        films['keywords'][i] = clean(films['keywords'][i])\n",
    "        films['keywords'][i] = films['keywords'][i].replace('name', '')\n",
    "        films['keywords'][i] = films['keywords'][i].replace('id', '')\n",
    "        films['keywords'][i] = films['keywords'][i].split('    ')\n",
    "        for y in range(len(films['keywords'][i])):\n",
    "            films['keywords'][i][y] = films['keywords'][i][y].lstrip()\n",
    "            films['keywords'][i][y] = films['keywords'][i][y].rstrip()"
   ]
  },
  {
   "cell_type": "code",
   "execution_count": 9,
   "id": "d5640df1",
   "metadata": {},
   "outputs": [],
   "source": [
    "warnings.filterwarnings(\"ignore\")\n",
    "for i in range(len(films['production_companies'])):\n",
    "    if films['production_companies'][i] == '[]':\n",
    "        films['production_companies'][i] = None\n",
    "    else:\n",
    "        films['production_companies'][i] = clean(films['production_companies'][i])\n",
    "        films['production_companies'][i] = films['production_companies'][i].replace('name', '')\n",
    "        films['production_companies'][i] = films['production_companies'][i].replace('id', '')\n",
    "        films['production_companies'][i] = films['production_companies'][i].split('    ')\n",
    "        for y in range(len(films['production_companies'][i])):\n",
    "            films['production_companies'][i][y] = films['production_companies'][i][y].lstrip()\n",
    "            films['production_companies'][i][y] = films['production_companies'][i][y].rstrip()"
   ]
  },
  {
   "cell_type": "code",
   "execution_count": 10,
   "id": "414fbbc8",
   "metadata": {},
   "outputs": [],
   "source": [
    "def clean_production_countries(text):\n",
    "    chars = '\"\\\\`*_{}[]()#+-.,!\":;'\n",
    "    for c in chars:\n",
    "        text = text.replace(c, '')\n",
    "    return text"
   ]
  },
  {
   "cell_type": "code",
   "execution_count": 11,
   "id": "95d50a4f",
   "metadata": {},
   "outputs": [],
   "source": [
    "warnings.filterwarnings(\"ignore\")\n",
    "for i in range(len(films['production_countries'])):\n",
    "    if films['production_countries'][i] == '[]':\n",
    "        films['production_countries'][i] = None\n",
    "    else:\n",
    "        films['production_countries'][i] = clean_production_countries(films['production_countries'][i])\n",
    "        films['production_countries'][i] = films['production_countries'][i].replace('name', '')\n",
    "        films['production_countries'][i] = films['production_countries'][i].replace('iso31661', '')\n",
    "        films['production_countries'][i] = films['production_countries'][i].split('  ')\n",
    "        for y in range(len(films['production_countries'][i])):\n",
    "            films['production_countries'][i][y] = films['production_countries'][i][y].lstrip()\n",
    "            films['production_countries'][i][y] = films['production_countries'][i][y].rstrip()"
   ]
  },
  {
   "cell_type": "markdown",
   "id": "eacef718",
   "metadata": {},
   "source": [
    "Переведем колонку release_date в дату"
   ]
  },
  {
   "cell_type": "code",
   "execution_count": 12,
   "id": "e891134c",
   "metadata": {},
   "outputs": [],
   "source": [
    "films['release_date'] = pd.to_datetime(films['release_date']) "
   ]
  },
  {
   "cell_type": "code",
   "execution_count": 41,
   "id": "dff6f079",
   "metadata": {},
   "outputs": [
    {
     "data": {
      "text/html": [
       "<div>\n",
       "<style scoped>\n",
       "    .dataframe tbody tr th:only-of-type {\n",
       "        vertical-align: middle;\n",
       "    }\n",
       "\n",
       "    .dataframe tbody tr th {\n",
       "        vertical-align: top;\n",
       "    }\n",
       "\n",
       "    .dataframe thead th {\n",
       "        text-align: right;\n",
       "    }\n",
       "</style>\n",
       "<table border=\"1\" class=\"dataframe\">\n",
       "  <thead>\n",
       "    <tr style=\"text-align: right;\">\n",
       "      <th></th>\n",
       "      <th>title</th>\n",
       "      <th>release_date</th>\n",
       "      <th>genres</th>\n",
       "      <th>keywords</th>\n",
       "      <th>runtime</th>\n",
       "      <th>status</th>\n",
       "      <th>budget</th>\n",
       "      <th>revenue</th>\n",
       "      <th>production_companies</th>\n",
       "      <th>production_countries</th>\n",
       "      <th>original_language</th>\n",
       "      <th>popularity</th>\n",
       "      <th>vote_count</th>\n",
       "      <th>vote_average</th>\n",
       "    </tr>\n",
       "  </thead>\n",
       "  <tbody>\n",
       "    <tr>\n",
       "      <th>0</th>\n",
       "      <td>Avatar</td>\n",
       "      <td>2009-12-10</td>\n",
       "      <td>[Action, Adventure, Fantasy, Science Fiction]</td>\n",
       "      <td>[culture clash, future, space war, space colon...</td>\n",
       "      <td>162.0</td>\n",
       "      <td>Released</td>\n",
       "      <td>237000000</td>\n",
       "      <td>2787965087</td>\n",
       "      <td>[Ingenious Film Partners, Twentieth Century Fo...</td>\n",
       "      <td>[US, United States of America, GB, United King...</td>\n",
       "      <td>en</td>\n",
       "      <td>150.437577</td>\n",
       "      <td>11800</td>\n",
       "      <td>7.2</td>\n",
       "    </tr>\n",
       "    <tr>\n",
       "      <th>1</th>\n",
       "      <td>Pirates of the Caribbean: At World's End</td>\n",
       "      <td>2007-05-19</td>\n",
       "      <td>[Adventure, Fantasy, Action]</td>\n",
       "      <td>[ocean, drug abuse, exotic island, east india ...</td>\n",
       "      <td>169.0</td>\n",
       "      <td>Released</td>\n",
       "      <td>300000000</td>\n",
       "      <td>961000000</td>\n",
       "      <td>[Walt Disney Pictures, Jerry Bruckheimer Films...</td>\n",
       "      <td>[US, United States of America]</td>\n",
       "      <td>en</td>\n",
       "      <td>139.082615</td>\n",
       "      <td>4500</td>\n",
       "      <td>6.9</td>\n",
       "    </tr>\n",
       "    <tr>\n",
       "      <th>2</th>\n",
       "      <td>Spectre</td>\n",
       "      <td>2015-10-26</td>\n",
       "      <td>[Action, Adventure, Crime]</td>\n",
       "      <td>[spy, based on novel, secret agent, sequel, mi...</td>\n",
       "      <td>148.0</td>\n",
       "      <td>Released</td>\n",
       "      <td>245000000</td>\n",
       "      <td>880674609</td>\n",
       "      <td>[Columbia Pictures, Danjaq, B]</td>\n",
       "      <td>[GB, United Kingdom, US, United States of Amer...</td>\n",
       "      <td>en</td>\n",
       "      <td>107.376788</td>\n",
       "      <td>4466</td>\n",
       "      <td>6.3</td>\n",
       "    </tr>\n",
       "    <tr>\n",
       "      <th>3</th>\n",
       "      <td>The Dark Knight Rises</td>\n",
       "      <td>2012-07-16</td>\n",
       "      <td>[Action, Crime, Drama, Thriller]</td>\n",
       "      <td>[dc comics, crime fighter, terrorist, secret e...</td>\n",
       "      <td>165.0</td>\n",
       "      <td>Released</td>\n",
       "      <td>250000000</td>\n",
       "      <td>1084939099</td>\n",
       "      <td>[Legendary Pictures, Warner Bros, DC Entertain...</td>\n",
       "      <td>[US, United States of America]</td>\n",
       "      <td>en</td>\n",
       "      <td>112.312950</td>\n",
       "      <td>9106</td>\n",
       "      <td>7.6</td>\n",
       "    </tr>\n",
       "    <tr>\n",
       "      <th>4</th>\n",
       "      <td>John Carter</td>\n",
       "      <td>2012-03-07</td>\n",
       "      <td>[Action, Adventure, Science Fiction]</td>\n",
       "      <td>[based on novel, mars, medallion, space travel...</td>\n",
       "      <td>132.0</td>\n",
       "      <td>Released</td>\n",
       "      <td>260000000</td>\n",
       "      <td>284139100</td>\n",
       "      <td>[Walt Disney Pictures]</td>\n",
       "      <td>[US, United States of America]</td>\n",
       "      <td>en</td>\n",
       "      <td>43.926995</td>\n",
       "      <td>2124</td>\n",
       "      <td>6.1</td>\n",
       "    </tr>\n",
       "  </tbody>\n",
       "</table>\n",
       "</div>"
      ],
      "text/plain": [
       "                                      title release_date  \\\n",
       "0                                    Avatar   2009-12-10   \n",
       "1  Pirates of the Caribbean: At World's End   2007-05-19   \n",
       "2                                   Spectre   2015-10-26   \n",
       "3                     The Dark Knight Rises   2012-07-16   \n",
       "4                               John Carter   2012-03-07   \n",
       "\n",
       "                                          genres  \\\n",
       "0  [Action, Adventure, Fantasy, Science Fiction]   \n",
       "1                   [Adventure, Fantasy, Action]   \n",
       "2                     [Action, Adventure, Crime]   \n",
       "3               [Action, Crime, Drama, Thriller]   \n",
       "4           [Action, Adventure, Science Fiction]   \n",
       "\n",
       "                                            keywords  runtime    status  \\\n",
       "0  [culture clash, future, space war, space colon...    162.0  Released   \n",
       "1  [ocean, drug abuse, exotic island, east india ...    169.0  Released   \n",
       "2  [spy, based on novel, secret agent, sequel, mi...    148.0  Released   \n",
       "3  [dc comics, crime fighter, terrorist, secret e...    165.0  Released   \n",
       "4  [based on novel, mars, medallion, space travel...    132.0  Released   \n",
       "\n",
       "      budget     revenue                               production_companies  \\\n",
       "0  237000000  2787965087  [Ingenious Film Partners, Twentieth Century Fo...   \n",
       "1  300000000   961000000  [Walt Disney Pictures, Jerry Bruckheimer Films...   \n",
       "2  245000000   880674609                     [Columbia Pictures, Danjaq, B]   \n",
       "3  250000000  1084939099  [Legendary Pictures, Warner Bros, DC Entertain...   \n",
       "4  260000000   284139100                             [Walt Disney Pictures]   \n",
       "\n",
       "                                production_countries original_language  \\\n",
       "0  [US, United States of America, GB, United King...                en   \n",
       "1                     [US, United States of America]                en   \n",
       "2  [GB, United Kingdom, US, United States of Amer...                en   \n",
       "3                     [US, United States of America]                en   \n",
       "4                     [US, United States of America]                en   \n",
       "\n",
       "   popularity  vote_count  vote_average  \n",
       "0  150.437577       11800           7.2  \n",
       "1  139.082615        4500           6.9  \n",
       "2  107.376788        4466           6.3  \n",
       "3  112.312950        9106           7.6  \n",
       "4   43.926995        2124           6.1  "
      ]
     },
     "execution_count": 41,
     "metadata": {},
     "output_type": "execute_result"
    }
   ],
   "source": [
    "films.head()"
   ]
  },
  {
   "cell_type": "markdown",
   "id": "b0ca2ac3",
   "metadata": {},
   "source": [
    "Оставляем только те фильмы, которые уже вышли и удаляем колонку status"
   ]
  },
  {
   "cell_type": "code",
   "execution_count": 42,
   "id": "8fa2336a",
   "metadata": {},
   "outputs": [
    {
     "data": {
      "text/plain": [
       "Released           4795\n",
       "Rumored               5\n",
       "Post Production       3\n",
       "Name: status, dtype: int64"
      ]
     },
     "execution_count": 42,
     "metadata": {},
     "output_type": "execute_result"
    }
   ],
   "source": [
    "films['status'].value_counts()"
   ]
  },
  {
   "cell_type": "code",
   "execution_count": 13,
   "id": "1227b0ad",
   "metadata": {},
   "outputs": [],
   "source": [
    "films = films[films.status == 'Released']"
   ]
  },
  {
   "cell_type": "code",
   "execution_count": 44,
   "id": "94428ae4",
   "metadata": {},
   "outputs": [
    {
     "data": {
      "text/plain": [
       "Released    4795\n",
       "Name: status, dtype: int64"
      ]
     },
     "execution_count": 44,
     "metadata": {},
     "output_type": "execute_result"
    }
   ],
   "source": [
    "films['status'].value_counts()"
   ]
  },
  {
   "cell_type": "code",
   "execution_count": 14,
   "id": "41a3b4dd",
   "metadata": {},
   "outputs": [],
   "source": [
    "films.drop(columns=['status'], inplace=True)"
   ]
  },
  {
   "cell_type": "markdown",
   "id": "87c9dd2e",
   "metadata": {},
   "source": [
    "Для дальнейшего анализа убираем фильмы, у которых нули в budget и revenue"
   ]
  },
  {
   "cell_type": "code",
   "execution_count": 15,
   "id": "a18eea1f",
   "metadata": {},
   "outputs": [],
   "source": [
    "zero_budget_revenue = films[(films['budget'] == 0) & (films['revenue'] == 0)]"
   ]
  },
  {
   "cell_type": "code",
   "execution_count": 16,
   "id": "ecf5f4f2",
   "metadata": {},
   "outputs": [],
   "source": [
    "film = films[(films['budget'] != 0) & (films['revenue'] != 0)]"
   ]
  },
  {
   "cell_type": "markdown",
   "id": "44fee9d4",
   "metadata": {},
   "source": [
    "Необходимо просмореть есть ли промущенные значения и если есть, то их процентное соотношение"
   ]
  },
  {
   "cell_type": "code",
   "execution_count": 17,
   "id": "f1189183",
   "metadata": {},
   "outputs": [
    {
     "data": {
      "text/plain": [
       "<Axes: >"
      ]
     },
     "execution_count": 17,
     "metadata": {},
     "output_type": "execute_result"
    },
    {
     "data": {
      "image/png": "[encoded data removed]",
      "text/plain": [
       "<Figure size 640x480 with 2 Axes>"
      ]
     },
     "metadata": {},
     "output_type": "display_data"
    }
   ],
   "source": [
    "sns.heatmap(film.isnull(), cmap='viridis')"
   ]
  },
  {
   "cell_type": "code",
   "execution_count": 18,
   "id": "fc2c4f29",
   "metadata": {},
   "outputs": [
    {
     "name": "stdout",
     "output_type": "stream",
     "text": [
      "title - 0%\n",
      "release_date - 0%\n",
      "genres - 0%\n",
      "keywords - 3%\n",
      "runtime - 0%\n",
      "budget - 0%\n",
      "revenue - 0%\n",
      "production_companies - 1%\n",
      "production_countries - 0%\n",
      "original_language - 0%\n",
      "popularity - 0%\n",
      "vote_count - 0%\n",
      "vote_average - 0%\n"
     ]
    }
   ],
   "source": [
    "for col in film.columns:\n",
    "    pct_missing = np.mean(film[col].isnull())\n",
    "    print('{} - {}%'.format(col,round(pct_missing * 100)))"
   ]
  },
  {
   "cell_type": "markdown",
   "id": "18276bf0",
   "metadata": {},
   "source": [
    "Пропущенные значения находятся в столбцах с категориальными переменными, поэтому заполнить их приблизительными значениями нет возможности. Их процентное соотношение в общей массе данных незначительно, поэтому оставляем эту погрешность"
   ]
  },
  {
   "cell_type": "markdown",
   "id": "7374b4da",
   "metadata": {},
   "source": [
    "Просматриваем дубликаты"
   ]
  },
  {
   "cell_type": "code",
   "execution_count": 20,
   "id": "c86db94b",
   "metadata": {},
   "outputs": [
    {
     "data": {
      "text/plain": [
       "1"
      ]
     },
     "execution_count": 20,
     "metadata": {},
     "output_type": "execute_result"
    }
   ],
   "source": [
    "film['title'].duplicated().sum()"
   ]
  },
  {
   "cell_type": "code",
   "execution_count": 21,
   "id": "08f2735d",
   "metadata": {},
   "outputs": [
    {
     "data": {
      "text/html": [
       "<div>\n",
       "<style scoped>\n",
       "    .dataframe tbody tr th:only-of-type {\n",
       "        vertical-align: middle;\n",
       "    }\n",
       "\n",
       "    .dataframe tbody tr th {\n",
       "        vertical-align: top;\n",
       "    }\n",
       "\n",
       "    .dataframe thead th {\n",
       "        text-align: right;\n",
       "    }\n",
       "</style>\n",
       "<table border=\"1\" class=\"dataframe\">\n",
       "  <thead>\n",
       "    <tr style=\"text-align: right;\">\n",
       "      <th></th>\n",
       "      <th>title</th>\n",
       "      <th>release_date</th>\n",
       "      <th>genres</th>\n",
       "      <th>keywords</th>\n",
       "      <th>runtime</th>\n",
       "      <th>budget</th>\n",
       "      <th>revenue</th>\n",
       "      <th>production_companies</th>\n",
       "      <th>production_countries</th>\n",
       "      <th>original_language</th>\n",
       "      <th>popularity</th>\n",
       "      <th>vote_count</th>\n",
       "      <th>vote_average</th>\n",
       "    </tr>\n",
       "  </thead>\n",
       "  <tbody>\n",
       "    <tr>\n",
       "      <th>2877</th>\n",
       "      <td>The Host</td>\n",
       "      <td>2006-07-27</td>\n",
       "      <td>[Horror, Drama, Science Fiction]</td>\n",
       "      <td>[river, mobile phone, bravery, archer, daughte...</td>\n",
       "      <td>119.0</td>\n",
       "      <td>11000000</td>\n",
       "      <td>88489643</td>\n",
       "      <td>[Cineclick Asia, Happinet Pictures, Cheongeora...</td>\n",
       "      <td>[KR, South Korea]</td>\n",
       "      <td>ko</td>\n",
       "      <td>27.65527</td>\n",
       "      <td>537</td>\n",
       "      <td>6.7</td>\n",
       "    </tr>\n",
       "  </tbody>\n",
       "</table>\n",
       "</div>"
      ],
      "text/plain": [
       "         title release_date                            genres  \\\n",
       "2877  The Host   2006-07-27  [Horror, Drama, Science Fiction]   \n",
       "\n",
       "                                               keywords  runtime    budget  \\\n",
       "2877  [river, mobile phone, bravery, archer, daughte...    119.0  11000000   \n",
       "\n",
       "       revenue                               production_companies  \\\n",
       "2877  88489643  [Cineclick Asia, Happinet Pictures, Cheongeora...   \n",
       "\n",
       "     production_countries original_language  popularity  vote_count  \\\n",
       "2877    [KR, South Korea]                ko    27.65527         537   \n",
       "\n",
       "      vote_average  \n",
       "2877           6.7  "
      ]
     },
     "execution_count": 21,
     "metadata": {},
     "output_type": "execute_result"
    }
   ],
   "source": [
    "film[film['title'].duplicated()]"
   ]
  },
  {
   "cell_type": "code",
   "execution_count": 22,
   "id": "90c3c536",
   "metadata": {},
   "outputs": [
    {
     "data": {
      "text/html": [
       "<div>\n",
       "<style scoped>\n",
       "    .dataframe tbody tr th:only-of-type {\n",
       "        vertical-align: middle;\n",
       "    }\n",
       "\n",
       "    .dataframe tbody tr th {\n",
       "        vertical-align: top;\n",
       "    }\n",
       "\n",
       "    .dataframe thead th {\n",
       "        text-align: right;\n",
       "    }\n",
       "</style>\n",
       "<table border=\"1\" class=\"dataframe\">\n",
       "  <thead>\n",
       "    <tr style=\"text-align: right;\">\n",
       "      <th></th>\n",
       "      <th>title</th>\n",
       "      <th>release_date</th>\n",
       "      <th>genres</th>\n",
       "      <th>keywords</th>\n",
       "      <th>runtime</th>\n",
       "      <th>budget</th>\n",
       "      <th>revenue</th>\n",
       "      <th>production_companies</th>\n",
       "      <th>production_countries</th>\n",
       "      <th>original_language</th>\n",
       "      <th>popularity</th>\n",
       "      <th>vote_count</th>\n",
       "      <th>vote_average</th>\n",
       "    </tr>\n",
       "  </thead>\n",
       "  <tbody>\n",
       "    <tr>\n",
       "      <th>972</th>\n",
       "      <td>The Host</td>\n",
       "      <td>2013-03-22</td>\n",
       "      <td>[Action, Adventure, Romance, Science Fiction, ...</td>\n",
       "      <td>[based on novel, mass murder, dystopia, genoce...</td>\n",
       "      <td>125.0</td>\n",
       "      <td>44000000</td>\n",
       "      <td>63327201</td>\n",
       "      <td>[Nick Wechsler Productions, Open Road Films, S...</td>\n",
       "      <td>[US, United States of America]</td>\n",
       "      <td>en</td>\n",
       "      <td>42.933027</td>\n",
       "      <td>1817</td>\n",
       "      <td>6.0</td>\n",
       "    </tr>\n",
       "    <tr>\n",
       "      <th>2877</th>\n",
       "      <td>The Host</td>\n",
       "      <td>2006-07-27</td>\n",
       "      <td>[Horror, Drama, Science Fiction]</td>\n",
       "      <td>[river, mobile phone, bravery, archer, daughte...</td>\n",
       "      <td>119.0</td>\n",
       "      <td>11000000</td>\n",
       "      <td>88489643</td>\n",
       "      <td>[Cineclick Asia, Happinet Pictures, Cheongeora...</td>\n",
       "      <td>[KR, South Korea]</td>\n",
       "      <td>ko</td>\n",
       "      <td>27.655270</td>\n",
       "      <td>537</td>\n",
       "      <td>6.7</td>\n",
       "    </tr>\n",
       "  </tbody>\n",
       "</table>\n",
       "</div>"
      ],
      "text/plain": [
       "         title release_date  \\\n",
       "972   The Host   2013-03-22   \n",
       "2877  The Host   2006-07-27   \n",
       "\n",
       "                                                 genres  \\\n",
       "972   [Action, Adventure, Romance, Science Fiction, ...   \n",
       "2877                   [Horror, Drama, Science Fiction]   \n",
       "\n",
       "                                               keywords  runtime    budget  \\\n",
       "972   [based on novel, mass murder, dystopia, genoce...    125.0  44000000   \n",
       "2877  [river, mobile phone, bravery, archer, daughte...    119.0  11000000   \n",
       "\n",
       "       revenue                               production_companies  \\\n",
       "972   63327201  [Nick Wechsler Productions, Open Road Films, S...   \n",
       "2877  88489643  [Cineclick Asia, Happinet Pictures, Cheongeora...   \n",
       "\n",
       "                production_countries original_language  popularity  \\\n",
       "972   [US, United States of America]                en   42.933027   \n",
       "2877               [KR, South Korea]                ko   27.655270   \n",
       "\n",
       "      vote_count  vote_average  \n",
       "972         1817           6.0  \n",
       "2877         537           6.7  "
      ]
     },
     "execution_count": 22,
     "metadata": {},
     "output_type": "execute_result"
    }
   ],
   "source": [
    "film[film['title'] == 'The Host']"
   ]
  },
  {
   "cell_type": "markdown",
   "id": "f2412f16",
   "metadata": {},
   "source": [
    "В dataframe на первый взгляд был дубликат, но после проверки оказалось, что это два разных фильма. Дубликаты отсутсвуют "
   ]
  },
  {
   "cell_type": "markdown",
   "id": "72ec0c64",
   "metadata": {},
   "source": [
    "# Этап 2. Разведочный анализ данных"
   ]
  },
  {
   "cell_type": "markdown",
   "id": "3e58bf08",
   "metadata": {},
   "source": [
    "### Вопрос 1: какова средняя оценка по всем фильмам"
   ]
  },
  {
   "cell_type": "code",
   "execution_count": 24,
   "id": "ab00fe48",
   "metadata": {},
   "outputs": [
    {
     "data": {
      "text/plain": [
       "6.309665427509294"
      ]
     },
     "execution_count": 24,
     "metadata": {},
     "output_type": "execute_result"
    }
   ],
   "source": [
    "np.mean(film['vote_average'])"
   ]
  },
  {
   "cell_type": "code",
   "execution_count": 27,
   "id": "b5b070fd",
   "metadata": {},
   "outputs": [
    {
     "data": {
      "text/plain": [
       "<Axes: xlabel='vote_average', ylabel='Count'>"
      ]
     },
     "execution_count": 27,
     "metadata": {},
     "output_type": "execute_result"
    },
    {
     "data": {
      "image/png": "[encoded data removed]",
      "text/plain": [
       "<Figure size 2000x800 with 1 Axes>"
      ]
     },
     "metadata": {},
     "output_type": "display_data"
    }
   ],
   "source": [
    "plt.figure(figsize=(10,4), dpi=200)\n",
    "sns.histplot(data=film,x='vote_average',bins=30,kde=True, color='orange', edgecolor='red')"
   ]
  },
  {
   "cell_type": "markdown",
   "id": "ff48849c",
   "metadata": {},
   "source": [
    "Средняя оценка по всем фильмам составляет 6.3, что довольно много для более 3000 фильмов"
   ]
  },
  {
   "cell_type": "markdown",
   "id": "17f7abed",
   "metadata": {},
   "source": [
    "### Вопрос 2: какие фильмы наиболее прибыльные"
   ]
  },
  {
   "cell_type": "code",
   "execution_count": 29,
   "id": "1f176de9",
   "metadata": {},
   "outputs": [
    {
     "data": {
      "text/html": [
       "<div>\n",
       "<style scoped>\n",
       "    .dataframe tbody tr th:only-of-type {\n",
       "        vertical-align: middle;\n",
       "    }\n",
       "\n",
       "    .dataframe tbody tr th {\n",
       "        vertical-align: top;\n",
       "    }\n",
       "\n",
       "    .dataframe thead th {\n",
       "        text-align: right;\n",
       "    }\n",
       "</style>\n",
       "<table border=\"1\" class=\"dataframe\">\n",
       "  <thead>\n",
       "    <tr style=\"text-align: right;\">\n",
       "      <th></th>\n",
       "      <th>title</th>\n",
       "      <th>release_date</th>\n",
       "      <th>genres</th>\n",
       "      <th>keywords</th>\n",
       "      <th>runtime</th>\n",
       "      <th>budget</th>\n",
       "      <th>revenue</th>\n",
       "      <th>production_companies</th>\n",
       "      <th>production_countries</th>\n",
       "      <th>original_language</th>\n",
       "      <th>popularity</th>\n",
       "      <th>vote_count</th>\n",
       "      <th>vote_average</th>\n",
       "    </tr>\n",
       "  </thead>\n",
       "  <tbody>\n",
       "    <tr>\n",
       "      <th>0</th>\n",
       "      <td>Avatar</td>\n",
       "      <td>2009-12-10</td>\n",
       "      <td>[Action, Adventure, Fantasy, Science Fiction]</td>\n",
       "      <td>[culture clash, future, space war, space colon...</td>\n",
       "      <td>162.0</td>\n",
       "      <td>237000000</td>\n",
       "      <td>2787965087</td>\n",
       "      <td>[Ingenious Film Partners, Twentieth Century Fo...</td>\n",
       "      <td>[US, United States of America, GB, United King...</td>\n",
       "      <td>en</td>\n",
       "      <td>150.437577</td>\n",
       "      <td>11800</td>\n",
       "      <td>7.2</td>\n",
       "    </tr>\n",
       "    <tr>\n",
       "      <th>25</th>\n",
       "      <td>Titanic</td>\n",
       "      <td>1997-11-18</td>\n",
       "      <td>[Drama, Romance, Thriller]</td>\n",
       "      <td>[shipwreck, iceberg, ship, panic, titanic, oce...</td>\n",
       "      <td>194.0</td>\n",
       "      <td>200000000</td>\n",
       "      <td>1845034188</td>\n",
       "      <td>[Paramount Pictures, Twentieth Century Fox Fil...</td>\n",
       "      <td>[US, United States of America]</td>\n",
       "      <td>en</td>\n",
       "      <td>100.025899</td>\n",
       "      <td>7562</td>\n",
       "      <td>7.5</td>\n",
       "    </tr>\n",
       "    <tr>\n",
       "      <th>16</th>\n",
       "      <td>The Avengers</td>\n",
       "      <td>2012-04-25</td>\n",
       "      <td>[Science Fiction, Action, Adventure]</td>\n",
       "      <td>[new york, shield, marvel comic, superhero, ba...</td>\n",
       "      <td>143.0</td>\n",
       "      <td>220000000</td>\n",
       "      <td>1519557910</td>\n",
       "      <td>[Paramount Pictures, Marvel Studios]</td>\n",
       "      <td>[US, United States of America]</td>\n",
       "      <td>en</td>\n",
       "      <td>144.448633</td>\n",
       "      <td>11776</td>\n",
       "      <td>7.4</td>\n",
       "    </tr>\n",
       "    <tr>\n",
       "      <th>28</th>\n",
       "      <td>Jurassic World</td>\n",
       "      <td>2015-06-09</td>\n",
       "      <td>[Action, Adventure, Science Fiction, Thriller]</td>\n",
       "      <td>[monster, dna, tyrannosaurus rex, velociraptor...</td>\n",
       "      <td>124.0</td>\n",
       "      <td>150000000</td>\n",
       "      <td>1513528810</td>\n",
       "      <td>[Universal Studios, Amblin Entertainment, Lege...</td>\n",
       "      <td>[US, United States of America]</td>\n",
       "      <td>en</td>\n",
       "      <td>418.708552</td>\n",
       "      <td>8662</td>\n",
       "      <td>6.5</td>\n",
       "    </tr>\n",
       "    <tr>\n",
       "      <th>44</th>\n",
       "      <td>Furious 7</td>\n",
       "      <td>2015-04-01</td>\n",
       "      <td>[Action]</td>\n",
       "      <td>[car race, speed, revenge, suspense, car, race...</td>\n",
       "      <td>137.0</td>\n",
       "      <td>190000000</td>\n",
       "      <td>1506249360</td>\n",
       "      <td>[Universal Pictures, Original Film, Fuji Telev...</td>\n",
       "      <td>[JP, Japan, US, United States of America]</td>\n",
       "      <td>en</td>\n",
       "      <td>102.322217</td>\n",
       "      <td>4176</td>\n",
       "      <td>7.3</td>\n",
       "    </tr>\n",
       "    <tr>\n",
       "      <th>7</th>\n",
       "      <td>Avengers: Age of Ultron</td>\n",
       "      <td>2015-04-22</td>\n",
       "      <td>[Action, Adventure, Science Fiction]</td>\n",
       "      <td>[marvel comic, sequel, superhero, based on com...</td>\n",
       "      <td>141.0</td>\n",
       "      <td>280000000</td>\n",
       "      <td>1405403694</td>\n",
       "      <td>[Marvel Studios, Prime Focus, Revolution Sun S...</td>\n",
       "      <td>[US, United States of America]</td>\n",
       "      <td>en</td>\n",
       "      <td>134.279229</td>\n",
       "      <td>6767</td>\n",
       "      <td>7.3</td>\n",
       "    </tr>\n",
       "    <tr>\n",
       "      <th>124</th>\n",
       "      <td>Frozen</td>\n",
       "      <td>2013-11-27</td>\n",
       "      <td>[Animation, Adventure, Family]</td>\n",
       "      <td>[queen, musical, princess, betrayal, snowman, ...</td>\n",
       "      <td>102.0</td>\n",
       "      <td>150000000</td>\n",
       "      <td>1274219009</td>\n",
       "      <td>[Walt Disney Pictures, Walt Disney Animation S...</td>\n",
       "      <td>[US, United States of America]</td>\n",
       "      <td>en</td>\n",
       "      <td>165.125366</td>\n",
       "      <td>5295</td>\n",
       "      <td>7.3</td>\n",
       "    </tr>\n",
       "    <tr>\n",
       "      <th>31</th>\n",
       "      <td>Iron Man 3</td>\n",
       "      <td>2013-04-18</td>\n",
       "      <td>[Action, Adventure, Science Fiction]</td>\n",
       "      <td>[terrorist, war on terror, tennessee, malibu, ...</td>\n",
       "      <td>130.0</td>\n",
       "      <td>200000000</td>\n",
       "      <td>1215439994</td>\n",
       "      <td>[Marvel Studios]</td>\n",
       "      <td>[CN, China, US, United States of America]</td>\n",
       "      <td>en</td>\n",
       "      <td>77.682080</td>\n",
       "      <td>8806</td>\n",
       "      <td>6.8</td>\n",
       "    </tr>\n",
       "    <tr>\n",
       "      <th>546</th>\n",
       "      <td>Minions</td>\n",
       "      <td>2015-06-17</td>\n",
       "      <td>[Family, Animation, Adventure, Comedy]</td>\n",
       "      <td>[assistant, aftercreditsstinger, duringcredits...</td>\n",
       "      <td>91.0</td>\n",
       "      <td>74000000</td>\n",
       "      <td>1156730962</td>\n",
       "      <td>[Universal Pictures, Illumination Entertainment]</td>\n",
       "      <td>[US, United States of America]</td>\n",
       "      <td>en</td>\n",
       "      <td>875.581305</td>\n",
       "      <td>4571</td>\n",
       "      <td>6.4</td>\n",
       "    </tr>\n",
       "    <tr>\n",
       "      <th>26</th>\n",
       "      <td>Captain America: Civil War</td>\n",
       "      <td>2016-04-27</td>\n",
       "      <td>[Adventure, Action, Science Fiction]</td>\n",
       "      <td>[civil war, war, marvel comic, sequel, superhe...</td>\n",
       "      <td>147.0</td>\n",
       "      <td>250000000</td>\n",
       "      <td>1153304495</td>\n",
       "      <td>[Studio Babelsberg, Marvel Studios, Walt Disne...</td>\n",
       "      <td>[US, United States of America]</td>\n",
       "      <td>en</td>\n",
       "      <td>198.372395</td>\n",
       "      <td>7241</td>\n",
       "      <td>7.1</td>\n",
       "    </tr>\n",
       "  </tbody>\n",
       "</table>\n",
       "</div>"
      ],
      "text/plain": [
       "                          title release_date  \\\n",
       "0                        Avatar   2009-12-10   \n",
       "25                      Titanic   1997-11-18   \n",
       "16                 The Avengers   2012-04-25   \n",
       "28               Jurassic World   2015-06-09   \n",
       "44                    Furious 7   2015-04-01   \n",
       "7       Avengers: Age of Ultron   2015-04-22   \n",
       "124                      Frozen   2013-11-27   \n",
       "31                   Iron Man 3   2013-04-18   \n",
       "546                     Minions   2015-06-17   \n",
       "26   Captain America: Civil War   2016-04-27   \n",
       "\n",
       "                                             genres  \\\n",
       "0     [Action, Adventure, Fantasy, Science Fiction]   \n",
       "25                       [Drama, Romance, Thriller]   \n",
       "16             [Science Fiction, Action, Adventure]   \n",
       "28   [Action, Adventure, Science Fiction, Thriller]   \n",
       "44                                         [Action]   \n",
       "7              [Action, Adventure, Science Fiction]   \n",
       "124                  [Animation, Adventure, Family]   \n",
       "31             [Action, Adventure, Science Fiction]   \n",
       "546          [Family, Animation, Adventure, Comedy]   \n",
       "26             [Adventure, Action, Science Fiction]   \n",
       "\n",
       "                                              keywords  runtime     budget  \\\n",
       "0    [culture clash, future, space war, space colon...    162.0  237000000   \n",
       "25   [shipwreck, iceberg, ship, panic, titanic, oce...    194.0  200000000   \n",
       "16   [new york, shield, marvel comic, superhero, ba...    143.0  220000000   \n",
       "28   [monster, dna, tyrannosaurus rex, velociraptor...    124.0  150000000   \n",
       "44   [car race, speed, revenge, suspense, car, race...    137.0  190000000   \n",
       "7    [marvel comic, sequel, superhero, based on com...    141.0  280000000   \n",
       "124  [queen, musical, princess, betrayal, snowman, ...    102.0  150000000   \n",
       "31   [terrorist, war on terror, tennessee, malibu, ...    130.0  200000000   \n",
       "546  [assistant, aftercreditsstinger, duringcredits...     91.0   74000000   \n",
       "26   [civil war, war, marvel comic, sequel, superhe...    147.0  250000000   \n",
       "\n",
       "        revenue                               production_companies  \\\n",
       "0    2787965087  [Ingenious Film Partners, Twentieth Century Fo...   \n",
       "25   1845034188  [Paramount Pictures, Twentieth Century Fox Fil...   \n",
       "16   1519557910               [Paramount Pictures, Marvel Studios]   \n",
       "28   1513528810  [Universal Studios, Amblin Entertainment, Lege...   \n",
       "44   1506249360  [Universal Pictures, Original Film, Fuji Telev...   \n",
       "7    1405403694  [Marvel Studios, Prime Focus, Revolution Sun S...   \n",
       "124  1274219009  [Walt Disney Pictures, Walt Disney Animation S...   \n",
       "31   1215439994                                   [Marvel Studios]   \n",
       "546  1156730962   [Universal Pictures, Illumination Entertainment]   \n",
       "26   1153304495  [Studio Babelsberg, Marvel Studios, Walt Disne...   \n",
       "\n",
       "                                  production_countries original_language  \\\n",
       "0    [US, United States of America, GB, United King...                en   \n",
       "25                      [US, United States of America]                en   \n",
       "16                      [US, United States of America]                en   \n",
       "28                      [US, United States of America]                en   \n",
       "44           [JP, Japan, US, United States of America]                en   \n",
       "7                       [US, United States of America]                en   \n",
       "124                     [US, United States of America]                en   \n",
       "31           [CN, China, US, United States of America]                en   \n",
       "546                     [US, United States of America]                en   \n",
       "26                      [US, United States of America]                en   \n",
       "\n",
       "     popularity  vote_count  vote_average  \n",
       "0    150.437577       11800           7.2  \n",
       "25   100.025899        7562           7.5  \n",
       "16   144.448633       11776           7.4  \n",
       "28   418.708552        8662           6.5  \n",
       "44   102.322217        4176           7.3  \n",
       "7    134.279229        6767           7.3  \n",
       "124  165.125366        5295           7.3  \n",
       "31    77.682080        8806           6.8  \n",
       "546  875.581305        4571           6.4  \n",
       "26   198.372395        7241           7.1  "
      ]
     },
     "execution_count": 29,
     "metadata": {},
     "output_type": "execute_result"
    }
   ],
   "source": [
    "film.sort_values(by='revenue', ascending=False).head(10)"
   ]
  },
  {
   "cell_type": "code",
   "execution_count": 30,
   "id": "f8e46f98",
   "metadata": {},
   "outputs": [],
   "source": [
    "top_10_revenue = film.sort_values(by='revenue', ascending=False).head(10)"
   ]
  },
  {
   "cell_type": "code",
   "execution_count": 33,
   "id": "979c8cab",
   "metadata": {},
   "outputs": [
    {
     "data": {
      "text/plain": [
       "Text(0.5, 1.0, 'Top 10 films by revenue')"
      ]
     },
     "execution_count": 33,
     "metadata": {},
     "output_type": "execute_result"
    },
    {
     "data": {
      "image/png": "[encoded data removed]",
      "text/plain": [
       "<Figure size 1200x400 with 1 Axes>"
      ]
     },
     "metadata": {},
     "output_type": "display_data"
    }
   ],
   "source": [
    "revenue = film.sort_values('revenue', ascending=False)\n",
    "plt.figure(figsize=(12,4))\n",
    "\n",
    "plt.barh(revenue['title'].head(10),revenue['revenue'].head(10), align='center',\n",
    "        color='skyblue')\n",
    "plt.gca().invert_yaxis()\n",
    "plt.xlabel(\"Revenue\")\n",
    "plt.title(\"Top 10 films by revenue\")"
   ]
  },
  {
   "cell_type": "markdown",
   "id": "559f8fa7",
   "metadata": {},
   "source": [
    "В топ 10 фильмов по прибыли вошли киноленты снятые в период 2010 по 2016, касающиеся темы приключений и научной фантастики. Это период активного развития графики и спецэффектов в киноиндустрии, поэтому неудивительно, что люди хотели увидеть что-то новое и зрелищное. Исключением является фильм 'Титаник', который является мировой классикой"
   ]
  },
  {
   "cell_type": "markdown",
   "id": "2a68167c",
   "metadata": {},
   "source": [
    "### Вопрос 3: какие фильмы наиболее популярные"
   ]
  },
  {
   "cell_type": "code",
   "execution_count": 34,
   "id": "cc80ec44",
   "metadata": {},
   "outputs": [
    {
     "data": {
      "text/html": [
       "<div>\n",
       "<style scoped>\n",
       "    .dataframe tbody tr th:only-of-type {\n",
       "        vertical-align: middle;\n",
       "    }\n",
       "\n",
       "    .dataframe tbody tr th {\n",
       "        vertical-align: top;\n",
       "    }\n",
       "\n",
       "    .dataframe thead th {\n",
       "        text-align: right;\n",
       "    }\n",
       "</style>\n",
       "<table border=\"1\" class=\"dataframe\">\n",
       "  <thead>\n",
       "    <tr style=\"text-align: right;\">\n",
       "      <th></th>\n",
       "      <th>title</th>\n",
       "      <th>release_date</th>\n",
       "      <th>genres</th>\n",
       "      <th>keywords</th>\n",
       "      <th>runtime</th>\n",
       "      <th>budget</th>\n",
       "      <th>revenue</th>\n",
       "      <th>production_companies</th>\n",
       "      <th>production_countries</th>\n",
       "      <th>original_language</th>\n",
       "      <th>popularity</th>\n",
       "      <th>vote_count</th>\n",
       "      <th>vote_average</th>\n",
       "    </tr>\n",
       "  </thead>\n",
       "  <tbody>\n",
       "    <tr>\n",
       "      <th>546</th>\n",
       "      <td>Minions</td>\n",
       "      <td>2015-06-17</td>\n",
       "      <td>[Family, Animation, Adventure, Comedy]</td>\n",
       "      <td>[assistant, aftercreditsstinger, duringcredits...</td>\n",
       "      <td>91.0</td>\n",
       "      <td>74000000</td>\n",
       "      <td>1156730962</td>\n",
       "      <td>[Universal Pictures, Illumination Entertainment]</td>\n",
       "      <td>[US, United States of America]</td>\n",
       "      <td>en</td>\n",
       "      <td>875.581305</td>\n",
       "      <td>4571</td>\n",
       "      <td>6.4</td>\n",
       "    </tr>\n",
       "    <tr>\n",
       "      <th>95</th>\n",
       "      <td>Interstellar</td>\n",
       "      <td>2014-11-05</td>\n",
       "      <td>[Adventure, Drama, Science Fiction]</td>\n",
       "      <td>[saving the world, artificial intelligence, fa...</td>\n",
       "      <td>169.0</td>\n",
       "      <td>165000000</td>\n",
       "      <td>675120017</td>\n",
       "      <td>[Paramount Pictures, Legendary Pictures, Warne...</td>\n",
       "      <td>[CA, Canada, US, United States of America, GB,...</td>\n",
       "      <td>en</td>\n",
       "      <td>724.247784</td>\n",
       "      <td>10867</td>\n",
       "      <td>8.1</td>\n",
       "    </tr>\n",
       "    <tr>\n",
       "      <th>788</th>\n",
       "      <td>Deadpool</td>\n",
       "      <td>2016-02-09</td>\n",
       "      <td>[Action, Adventure, Comedy]</td>\n",
       "      <td>[anti hero, mercenary, marvel comic, superhero...</td>\n",
       "      <td>108.0</td>\n",
       "      <td>58000000</td>\n",
       "      <td>783112979</td>\n",
       "      <td>[Twentieth Century Fox Film Corporation, Marve...</td>\n",
       "      <td>[US, United States of America]</td>\n",
       "      <td>en</td>\n",
       "      <td>514.569956</td>\n",
       "      <td>10995</td>\n",
       "      <td>7.4</td>\n",
       "    </tr>\n",
       "    <tr>\n",
       "      <th>94</th>\n",
       "      <td>Guardians of the Galaxy</td>\n",
       "      <td>2014-07-30</td>\n",
       "      <td>[Action, Science Fiction, Adventure]</td>\n",
       "      <td>[marvel comic, spaceship, space, outer space, ...</td>\n",
       "      <td>121.0</td>\n",
       "      <td>170000000</td>\n",
       "      <td>773328629</td>\n",
       "      <td>[Marvel Studios, Moving Picture Company MPC, B...</td>\n",
       "      <td>[GB, United Kingdom, US, United States of Amer...</td>\n",
       "      <td>en</td>\n",
       "      <td>481.098624</td>\n",
       "      <td>9742</td>\n",
       "      <td>7.9</td>\n",
       "    </tr>\n",
       "    <tr>\n",
       "      <th>127</th>\n",
       "      <td>Mad Max: Fury Road</td>\n",
       "      <td>2015-05-13</td>\n",
       "      <td>[Action, Adventure, Science Fiction, Thriller]</td>\n",
       "      <td>[future, chase, postapocalyptic, dystopia, aus...</td>\n",
       "      <td>120.0</td>\n",
       "      <td>150000000</td>\n",
       "      <td>378858340</td>\n",
       "      <td>[Village Roadshow Pictures, Kennedy Miller Pro...</td>\n",
       "      <td>[AU, Australia, US, United States of America]</td>\n",
       "      <td>en</td>\n",
       "      <td>434.278564</td>\n",
       "      <td>9427</td>\n",
       "      <td>7.2</td>\n",
       "    </tr>\n",
       "    <tr>\n",
       "      <th>28</th>\n",
       "      <td>Jurassic World</td>\n",
       "      <td>2015-06-09</td>\n",
       "      <td>[Action, Adventure, Science Fiction, Thriller]</td>\n",
       "      <td>[monster, dna, tyrannosaurus rex, velociraptor...</td>\n",
       "      <td>124.0</td>\n",
       "      <td>150000000</td>\n",
       "      <td>1513528810</td>\n",
       "      <td>[Universal Studios, Amblin Entertainment, Lege...</td>\n",
       "      <td>[US, United States of America]</td>\n",
       "      <td>en</td>\n",
       "      <td>418.708552</td>\n",
       "      <td>8662</td>\n",
       "      <td>6.5</td>\n",
       "    </tr>\n",
       "    <tr>\n",
       "      <th>199</th>\n",
       "      <td>Pirates of the Caribbean: The Curse of the Bla...</td>\n",
       "      <td>2003-07-09</td>\n",
       "      <td>[Adventure, Fantasy, Action]</td>\n",
       "      <td>[exotic island, blacksmith, east india trading...</td>\n",
       "      <td>143.0</td>\n",
       "      <td>140000000</td>\n",
       "      <td>655011224</td>\n",
       "      <td>[Walt Disney Pictures, Jerry Bruckheimer Films]</td>\n",
       "      <td>[US, United States of America]</td>\n",
       "      <td>en</td>\n",
       "      <td>271.972889</td>\n",
       "      <td>6985</td>\n",
       "      <td>7.5</td>\n",
       "    </tr>\n",
       "    <tr>\n",
       "      <th>82</th>\n",
       "      <td>Dawn of the Planet of the Apes</td>\n",
       "      <td>2014-06-26</td>\n",
       "      <td>[Science Fiction, Action, Drama, Thriller]</td>\n",
       "      <td>[leader, colony, postapocalyptic, dystopia, fo...</td>\n",
       "      <td>130.0</td>\n",
       "      <td>170000000</td>\n",
       "      <td>710644566</td>\n",
       "      <td>[Ingenious Media, Chernin Entertainment, TSG E...</td>\n",
       "      <td>[US, United States of America]</td>\n",
       "      <td>en</td>\n",
       "      <td>243.791743</td>\n",
       "      <td>4410</td>\n",
       "      <td>7.3</td>\n",
       "    </tr>\n",
       "    <tr>\n",
       "      <th>200</th>\n",
       "      <td>The Hunger Games: Mockingjay - Part 1</td>\n",
       "      <td>2014-11-18</td>\n",
       "      <td>[Science Fiction, Adventure, Thriller]</td>\n",
       "      <td>[resistance, postapocalyptic, dystopia, war, s...</td>\n",
       "      <td>123.0</td>\n",
       "      <td>125000000</td>\n",
       "      <td>752100229</td>\n",
       "      <td>[Lionsgate, Color Force]</td>\n",
       "      <td>[US, United States of America]</td>\n",
       "      <td>en</td>\n",
       "      <td>206.227151</td>\n",
       "      <td>5584</td>\n",
       "      <td>6.6</td>\n",
       "    </tr>\n",
       "    <tr>\n",
       "      <th>88</th>\n",
       "      <td>Big Hero 6</td>\n",
       "      <td>2014-10-24</td>\n",
       "      <td>[Adventure, Family, Animation, Action, Comedy]</td>\n",
       "      <td>[brother brother relationship, hero, talent, r...</td>\n",
       "      <td>102.0</td>\n",
       "      <td>165000000</td>\n",
       "      <td>652105443</td>\n",
       "      <td>[Walt Disney Pictures, Walt Disney Animation S...</td>\n",
       "      <td>[US, United States of America]</td>\n",
       "      <td>en</td>\n",
       "      <td>203.734590</td>\n",
       "      <td>6135</td>\n",
       "      <td>7.8</td>\n",
       "    </tr>\n",
       "  </tbody>\n",
       "</table>\n",
       "</div>"
      ],
      "text/plain": [
       "                                                 title release_date  \\\n",
       "546                                            Minions   2015-06-17   \n",
       "95                                        Interstellar   2014-11-05   \n",
       "788                                           Deadpool   2016-02-09   \n",
       "94                             Guardians of the Galaxy   2014-07-30   \n",
       "127                                 Mad Max: Fury Road   2015-05-13   \n",
       "28                                      Jurassic World   2015-06-09   \n",
       "199  Pirates of the Caribbean: The Curse of the Bla...   2003-07-09   \n",
       "82                      Dawn of the Planet of the Apes   2014-06-26   \n",
       "200              The Hunger Games: Mockingjay - Part 1   2014-11-18   \n",
       "88                                          Big Hero 6   2014-10-24   \n",
       "\n",
       "                                             genres  \\\n",
       "546          [Family, Animation, Adventure, Comedy]   \n",
       "95              [Adventure, Drama, Science Fiction]   \n",
       "788                     [Action, Adventure, Comedy]   \n",
       "94             [Action, Science Fiction, Adventure]   \n",
       "127  [Action, Adventure, Science Fiction, Thriller]   \n",
       "28   [Action, Adventure, Science Fiction, Thriller]   \n",
       "199                    [Adventure, Fantasy, Action]   \n",
       "82       [Science Fiction, Action, Drama, Thriller]   \n",
       "200          [Science Fiction, Adventure, Thriller]   \n",
       "88   [Adventure, Family, Animation, Action, Comedy]   \n",
       "\n",
       "                                              keywords  runtime     budget  \\\n",
       "546  [assistant, aftercreditsstinger, duringcredits...     91.0   74000000   \n",
       "95   [saving the world, artificial intelligence, fa...    169.0  165000000   \n",
       "788  [anti hero, mercenary, marvel comic, superhero...    108.0   58000000   \n",
       "94   [marvel comic, spaceship, space, outer space, ...    121.0  170000000   \n",
       "127  [future, chase, postapocalyptic, dystopia, aus...    120.0  150000000   \n",
       "28   [monster, dna, tyrannosaurus rex, velociraptor...    124.0  150000000   \n",
       "199  [exotic island, blacksmith, east india trading...    143.0  140000000   \n",
       "82   [leader, colony, postapocalyptic, dystopia, fo...    130.0  170000000   \n",
       "200  [resistance, postapocalyptic, dystopia, war, s...    123.0  125000000   \n",
       "88   [brother brother relationship, hero, talent, r...    102.0  165000000   \n",
       "\n",
       "        revenue                               production_companies  \\\n",
       "546  1156730962   [Universal Pictures, Illumination Entertainment]   \n",
       "95    675120017  [Paramount Pictures, Legendary Pictures, Warne...   \n",
       "788   783112979  [Twentieth Century Fox Film Corporation, Marve...   \n",
       "94    773328629  [Marvel Studios, Moving Picture Company MPC, B...   \n",
       "127   378858340  [Village Roadshow Pictures, Kennedy Miller Pro...   \n",
       "28   1513528810  [Universal Studios, Amblin Entertainment, Lege...   \n",
       "199   655011224    [Walt Disney Pictures, Jerry Bruckheimer Films]   \n",
       "82    710644566  [Ingenious Media, Chernin Entertainment, TSG E...   \n",
       "200   752100229                           [Lionsgate, Color Force]   \n",
       "88    652105443  [Walt Disney Pictures, Walt Disney Animation S...   \n",
       "\n",
       "                                  production_countries original_language  \\\n",
       "546                     [US, United States of America]                en   \n",
       "95   [CA, Canada, US, United States of America, GB,...                en   \n",
       "788                     [US, United States of America]                en   \n",
       "94   [GB, United Kingdom, US, United States of Amer...                en   \n",
       "127      [AU, Australia, US, United States of America]                en   \n",
       "28                      [US, United States of America]                en   \n",
       "199                     [US, United States of America]                en   \n",
       "82                      [US, United States of America]                en   \n",
       "200                     [US, United States of America]                en   \n",
       "88                      [US, United States of America]                en   \n",
       "\n",
       "     popularity  vote_count  vote_average  \n",
       "546  875.581305        4571           6.4  \n",
       "95   724.247784       10867           8.1  \n",
       "788  514.569956       10995           7.4  \n",
       "94   481.098624        9742           7.9  \n",
       "127  434.278564        9427           7.2  \n",
       "28   418.708552        8662           6.5  \n",
       "199  271.972889        6985           7.5  \n",
       "82   243.791743        4410           7.3  \n",
       "200  206.227151        5584           6.6  \n",
       "88   203.734590        6135           7.8  "
      ]
     },
     "execution_count": 34,
     "metadata": {},
     "output_type": "execute_result"
    }
   ],
   "source": [
    "film.sort_values(by='popularity', ascending=False).head(10)"
   ]
  },
  {
   "cell_type": "code",
   "execution_count": 35,
   "id": "2fa3974b",
   "metadata": {},
   "outputs": [],
   "source": [
    "top_10_popularity = film.sort_values(by='popularity', ascending=False).head(10)"
   ]
  },
  {
   "cell_type": "code",
   "execution_count": 36,
   "id": "f958f921",
   "metadata": {},
   "outputs": [
    {
     "data": {
      "text/plain": [
       "Text(0.5, 1.0, 'Popular Movies')"
      ]
     },
     "execution_count": 36,
     "metadata": {},
     "output_type": "execute_result"
    },
    {
     "data": {
      "image/png": "[encoded data removed]",
      "text/plain": [
       "<Figure size 1200x400 with 1 Axes>"
      ]
     },
     "metadata": {},
     "output_type": "display_data"
    }
   ],
   "source": [
    "pop = film.sort_values('popularity', ascending=False)\n",
    "plt.figure(figsize=(12,4))\n",
    "\n",
    "plt.barh(pop['title'].head(10),pop['popularity'].head(10), align='center',\n",
    "        color='skyblue')\n",
    "plt.gca().invert_yaxis()\n",
    "plt.xlabel(\"Popularity\")\n",
    "plt.title(\"Popular Movies\")"
   ]
  },
  {
   "cell_type": "markdown",
   "id": "11bc141c",
   "metadata": {},
   "source": [
    "В наиболее популярные фильмы вошло больше кинолент с семейной тематикой или для совместного просмотра. Это объяснимо, ведь просмотр фильмов является наиболее частым занятием для времяпрепровождения с семьей, а для этого выбираются более легкие фильмы по типу комедий или мультфильмов"
   ]
  },
  {
   "cell_type": "markdown",
   "id": "9bffdbc5",
   "metadata": {},
   "source": [
    "### Вопрос 4: в каких жанрах чаще снимают фильмы"
   ]
  },
  {
   "cell_type": "code",
   "execution_count": 37,
   "id": "e2dc96b7",
   "metadata": {},
   "outputs": [],
   "source": [
    "genres = []\n",
    "for el in film['genres']:\n",
    "    if el == None:\n",
    "        continue\n",
    "    for i in range(len(el)):\n",
    "        if el[i] not in genres:\n",
    "            genres.append(el[i])"
   ]
  },
  {
   "cell_type": "code",
   "execution_count": 38,
   "id": "e4bdac3f",
   "metadata": {},
   "outputs": [],
   "source": [
    "counts = dict()\n",
    "for i in film['genres']:\n",
    "    if i == None:\n",
    "        continue\n",
    "    for el in i:\n",
    "        if el not in counts:\n",
    "            counts[el] = counts.get(el, 0) + 1\n",
    "        else:\n",
    "            counts[el] += 1"
   ]
  },
  {
   "cell_type": "code",
   "execution_count": 39,
   "id": "df59ed78",
   "metadata": {},
   "outputs": [
    {
     "name": "stdout",
     "output_type": "stream",
     "text": [
      "genre: Action \n",
      "counts: 918\n",
      "\n",
      "genre: Drama \n",
      "counts: 1440\n",
      "\n",
      "genre: Thriller \n",
      "counts: 934\n",
      "\n",
      "genre: Comedy \n",
      "counts: 1110\n",
      "\n"
     ]
    }
   ],
   "source": [
    "for el in counts:\n",
    "    if counts[el] > 700:\n",
    "        print(f'genre: {el} \\ncounts: {counts[el]}\\n')"
   ]
  },
  {
   "cell_type": "markdown",
   "id": "8c217f7b",
   "metadata": {},
   "source": [
    "Самым популярным жанром является драма. Драматические фильмы чаще всего затрагивают реальные жизненные проблемы, что позволяет зрителю проводить параллели с собственными переживаниями и сочувствовать герояем, понимать их. Поэтому этот жанр так популярен"
   ]
  },
  {
   "cell_type": "markdown",
   "id": "e8ced892",
   "metadata": {},
   "source": [
    "### Вопрос 5: кто является лидером в кинопроизводстве"
   ]
  },
  {
   "cell_type": "code",
   "execution_count": 40,
   "id": "08d11ed4",
   "metadata": {},
   "outputs": [],
   "source": [
    "companies = []\n",
    "for el in film['production_companies']:\n",
    "    if el == None:\n",
    "        continue\n",
    "    for i in range(len(el)):\n",
    "        if el[i] not in companies:\n",
    "            companies.append(el[i])"
   ]
  },
  {
   "cell_type": "code",
   "execution_count": 41,
   "id": "d9d8d597",
   "metadata": {},
   "outputs": [],
   "source": [
    "counts_companies = dict()\n",
    "for i in film['production_companies']:\n",
    "    if i == None:\n",
    "        continue\n",
    "    for el in i:\n",
    "        if el not in counts_companies:\n",
    "            counts_companies[el] = counts_companies.get(el, 0) + 1\n",
    "        else:\n",
    "            counts_companies[el] += 1"
   ]
  },
  {
   "cell_type": "code",
   "execution_count": 42,
   "id": "1ca518f1",
   "metadata": {},
   "outputs": [
    {
     "data": {
      "text/plain": [
       "280"
      ]
     },
     "execution_count": 42,
     "metadata": {},
     "output_type": "execute_result"
    }
   ],
   "source": [
    "max(counts_companies.values())"
   ]
  },
  {
   "cell_type": "code",
   "execution_count": 43,
   "id": "da87de73",
   "metadata": {},
   "outputs": [
    {
     "name": "stdout",
     "output_type": "stream",
     "text": [
      "genre: Twentieth Century Fox Film Corporation \n",
      "counts: 201\n",
      "\n",
      "genre: Columbia Pictures \n",
      "counts: 167\n",
      "\n",
      "genre: Warner Bros \n",
      "counts: 280\n",
      "\n",
      "genre: Paramount Pictures \n",
      "counts: 245\n",
      "\n",
      "genre: New Line Cinema \n",
      "counts: 142\n",
      "\n",
      "genre: Universal Pictures \n",
      "counts: 273\n",
      "\n"
     ]
    }
   ],
   "source": [
    "for el in counts_companies:\n",
    "    if counts_companies[el] > 100:\n",
    "        print(f'genre: {el} \\ncounts: {counts_companies[el]}\\n')"
   ]
  },
  {
   "cell_type": "markdown",
   "id": "d4ccbecb",
   "metadata": {},
   "source": [
    "### Вопрос 6: какова была тенденция популярности жанров по десятелетиям "
   ]
  },
  {
   "cell_type": "code",
   "execution_count": 44,
   "id": "440406bf",
   "metadata": {},
   "outputs": [
    {
     "name": "stdout",
     "output_type": "stream",
     "text": [
      "2016-09-09 00:00:00 1916-09-04 00:00:00\n"
     ]
    }
   ],
   "source": [
    "print(max(film['release_date']), min(film['release_date']))"
   ]
  },
  {
   "cell_type": "code",
   "execution_count": 48,
   "id": "9aa941b3",
   "metadata": {},
   "outputs": [],
   "source": [
    "films_1916_1926 = film[(film['release_date'] >= '1916-09-04') & (film['release_date'] <= '1926-12-31')]\n",
    "films_1926_1936 = film[(film['release_date'] >= '1926-12-31') & (film['release_date'] <= '1936-12-31')]\n",
    "films_1936_1946 = film[(film['release_date'] >= '1936-12-31') & (film['release_date'] <= '1946-12-31')]\n",
    "films_1946_1956 = film[(film['release_date'] >= '1946-12-31') & (film['release_date'] <= '1956-12-31')]\n",
    "films_1956_1966 = film[(film['release_date'] >= '1956-12-31') & (film['release_date'] <= '1966-12-31')]\n",
    "films_1966_1976 = film[(film['release_date'] >= '1966-12-31') & (film['release_date'] <= '1976-12-31')]\n",
    "films_1976_1986 = film[(film['release_date'] >= '1976-12-31') & (film['release_date'] <= '1986-12-31')]\n",
    "films_1986_1996 = film[(film['release_date'] >= '1986-12-31') & (film['release_date'] <= '1996-12-31')]\n",
    "films_1996_2006 = film[(film['release_date'] >= '1996-12-31') & (film['release_date'] <= '2006-12-31')]\n",
    "films_2006_2016 = film[(film['release_date'] >= '2006-12-31') & (film['release_date'] <= '2016-12-31')]"
   ]
  },
  {
   "cell_type": "code",
   "execution_count": 49,
   "id": "194e2dfc",
   "metadata": {},
   "outputs": [],
   "source": [
    "def counts_genres(df):\n",
    "    count = dict()\n",
    "    for i in df:\n",
    "        if i == None:\n",
    "            continue\n",
    "        for el in i:\n",
    "            if el not in count:\n",
    "                count[el] = count.get(el, 0) + 1\n",
    "            else:\n",
    "                count[el] += 1\n",
    "    return count"
   ]
  },
  {
   "cell_type": "code",
   "execution_count": 50,
   "id": "ad833878",
   "metadata": {},
   "outputs": [],
   "source": [
    "def top_genre(dict_genres):\n",
    "    top_genres = dict()\n",
    "    max_value = max(dict_genres.values())\n",
    "    for el in dict_genres:\n",
    "        if dict_genres[el] == max_value:\n",
    "            top_genres[el] = dict_genres[el]\n",
    "    for el in dict_genres:\n",
    "        if dict_genres[el] <= 50:\n",
    "            continue\n",
    "        if (max_value - 200) <= dict_genres[el] < max_value:\n",
    "            top_genres[el] = dict_genres[el]\n",
    "    return top_genres"
   ]
  },
  {
   "cell_type": "code",
   "execution_count": 54,
   "id": "7f3f0261",
   "metadata": {},
   "outputs": [],
   "source": [
    "top_1916_1926 = top_genre(counts_genres(films_1916_1926['genres']))\n",
    "top_1926_1936 = top_genre(counts_genres(films_1926_1936['genres']))\n",
    "top_1936_1946 = top_genre(counts_genres(films_1936_1946['genres']))\n",
    "top_1946_1956 = top_genre(counts_genres(films_1946_1956['genres']))\n",
    "top_1956_1966 = top_genre(counts_genres(films_1956_1966['genres']))\n",
    "top_1966_1976 = top_genre(counts_genres(films_1966_1976['genres']))\n",
    "top_1976_1986 = top_genre(counts_genres(films_1976_1986['genres']))\n",
    "top_1986_1996 = top_genre(counts_genres(films_1986_1996['genres']))\n",
    "top_1996_2006 = top_genre(counts_genres(films_1996_2006['genres']))\n",
    "top_2006_2016 = top_genre(counts_genres(films_2006_2016['genres']))"
   ]
  },
  {
   "cell_type": "code",
   "execution_count": 55,
   "id": "782e09d2",
   "metadata": {},
   "outputs": [],
   "source": [
    "df_16_26 = pd.DataFrame.from_dict(top_1916_1926, orient='index', columns = ['1916_1926'])\n",
    "df_26_36 = pd.DataFrame.from_dict(top_1926_1936, orient='index', columns = ['1926_1936'])\n",
    "df_36_46 = pd.DataFrame.from_dict(top_1936_1946, orient='index', columns = ['1936_1946'])\n",
    "df_46_56 = pd.DataFrame.from_dict(top_1946_1956, orient='index', columns = ['1946_1956'])\n",
    "df_56_66 = pd.DataFrame.from_dict(top_1956_1966, orient='index', columns = ['1956_1966'])\n",
    "df_66_76 = pd.DataFrame.from_dict(top_1966_1976, orient='index', columns = ['1966_1976'])\n",
    "df_76_86 = pd.DataFrame.from_dict(top_1976_1986, orient='index', columns = ['1976_1986'])\n",
    "df_86_96 = pd.DataFrame.from_dict(top_1986_1996, orient='index', columns = ['1986_1996'])\n",
    "df_96_06 = pd.DataFrame.from_dict(top_1996_2006, orient='index', columns = ['1996_2006'])\n",
    "df_06_16 = pd.DataFrame.from_dict(top_2006_2016, orient='index', columns = ['2006_2016'])"
   ]
  },
  {
   "cell_type": "code",
   "execution_count": 60,
   "id": "c3f4ff56",
   "metadata": {},
   "outputs": [],
   "source": [
    "df_16_to_36 = df_16_26.join(df_26_36, how='outer')"
   ]
  },
  {
   "cell_type": "code",
   "execution_count": 61,
   "id": "a79b2f75",
   "metadata": {},
   "outputs": [],
   "source": [
    "df_16_to_46 = df_36_46.join(df_16_to_36, how='outer')"
   ]
  },
  {
   "cell_type": "code",
   "execution_count": 62,
   "id": "a21d2460",
   "metadata": {},
   "outputs": [],
   "source": [
    "df_16_to_56 = df_46_56.join(df_16_to_46, how='outer')"
   ]
  },
  {
   "cell_type": "code",
   "execution_count": 63,
   "id": "33e55db8",
   "metadata": {},
   "outputs": [],
   "source": [
    "df_16_to_66 = df_56_66.join(df_16_to_56, how='outer')"
   ]
  },
  {
   "cell_type": "code",
   "execution_count": 64,
   "id": "814d8b91",
   "metadata": {},
   "outputs": [],
   "source": [
    "df_16_to_76 = df_66_76.join(df_16_to_66, how='outer')"
   ]
  },
  {
   "cell_type": "code",
   "execution_count": 65,
   "id": "44e6f873",
   "metadata": {},
   "outputs": [],
   "source": [
    "df_16_to_86 = df_76_86.join(df_16_to_76, how='outer')"
   ]
  },
  {
   "cell_type": "code",
   "execution_count": 66,
   "id": "9f5a574f",
   "metadata": {},
   "outputs": [],
   "source": [
    "df_16_to_96 = df_86_96.join(df_16_to_86, how='outer')"
   ]
  },
  {
   "cell_type": "code",
   "execution_count": 67,
   "id": "24d4caf0",
   "metadata": {},
   "outputs": [],
   "source": [
    "df_16_to_06 = df_96_06.join(df_16_to_96, how='outer')"
   ]
  },
  {
   "cell_type": "code",
   "execution_count": 68,
   "id": "0bb6c267",
   "metadata": {},
   "outputs": [],
   "source": [
    "df_top_genre = df_06_16.join(df_16_to_06, how='outer')"
   ]
  },
  {
   "cell_type": "code",
   "execution_count": 69,
   "id": "0c039b5e",
   "metadata": {},
   "outputs": [
    {
     "data": {
      "text/html": [
       "<div>\n",
       "<style scoped>\n",
       "    .dataframe tbody tr th:only-of-type {\n",
       "        vertical-align: middle;\n",
       "    }\n",
       "\n",
       "    .dataframe tbody tr th {\n",
       "        vertical-align: top;\n",
       "    }\n",
       "\n",
       "    .dataframe thead th {\n",
       "        text-align: right;\n",
       "    }\n",
       "</style>\n",
       "<table border=\"1\" class=\"dataframe\">\n",
       "  <thead>\n",
       "    <tr style=\"text-align: right;\">\n",
       "      <th></th>\n",
       "      <th>2006_2016</th>\n",
       "      <th>1996_2006</th>\n",
       "      <th>1986_1996</th>\n",
       "      <th>1976_1986</th>\n",
       "      <th>1966_1976</th>\n",
       "      <th>1956_1966</th>\n",
       "      <th>1946_1956</th>\n",
       "      <th>1936_1946</th>\n",
       "      <th>1916_1926</th>\n",
       "      <th>1926_1936</th>\n",
       "    </tr>\n",
       "  </thead>\n",
       "  <tbody>\n",
       "    <tr>\n",
       "      <th>Action</th>\n",
       "      <td>NaN</td>\n",
       "      <td>NaN</td>\n",
       "      <td>119</td>\n",
       "      <td>60.0</td>\n",
       "      <td>NaN</td>\n",
       "      <td>NaN</td>\n",
       "      <td>NaN</td>\n",
       "      <td>NaN</td>\n",
       "      <td>NaN</td>\n",
       "      <td>NaN</td>\n",
       "    </tr>\n",
       "    <tr>\n",
       "      <th>Adventure</th>\n",
       "      <td>NaN</td>\n",
       "      <td>NaN</td>\n",
       "      <td>77</td>\n",
       "      <td>56.0</td>\n",
       "      <td>NaN</td>\n",
       "      <td>NaN</td>\n",
       "      <td>NaN</td>\n",
       "      <td>NaN</td>\n",
       "      <td>NaN</td>\n",
       "      <td>NaN</td>\n",
       "    </tr>\n",
       "    <tr>\n",
       "      <th>Comedy</th>\n",
       "      <td>469.0</td>\n",
       "      <td>456.0</td>\n",
       "      <td>108</td>\n",
       "      <td>NaN</td>\n",
       "      <td>NaN</td>\n",
       "      <td>NaN</td>\n",
       "      <td>NaN</td>\n",
       "      <td>NaN</td>\n",
       "      <td>NaN</td>\n",
       "      <td>NaN</td>\n",
       "    </tr>\n",
       "    <tr>\n",
       "      <th>Crime</th>\n",
       "      <td>NaN</td>\n",
       "      <td>NaN</td>\n",
       "      <td>75</td>\n",
       "      <td>NaN</td>\n",
       "      <td>NaN</td>\n",
       "      <td>NaN</td>\n",
       "      <td>NaN</td>\n",
       "      <td>NaN</td>\n",
       "      <td>NaN</td>\n",
       "      <td>NaN</td>\n",
       "    </tr>\n",
       "    <tr>\n",
       "      <th>Drama</th>\n",
       "      <td>596.0</td>\n",
       "      <td>551.0</td>\n",
       "      <td>144</td>\n",
       "      <td>51.0</td>\n",
       "      <td>31.0</td>\n",
       "      <td>30.0</td>\n",
       "      <td>15.0</td>\n",
       "      <td>14.0</td>\n",
       "      <td>2.0</td>\n",
       "      <td>6.0</td>\n",
       "    </tr>\n",
       "    <tr>\n",
       "      <th>Romance</th>\n",
       "      <td>NaN</td>\n",
       "      <td>NaN</td>\n",
       "      <td>60</td>\n",
       "      <td>NaN</td>\n",
       "      <td>NaN</td>\n",
       "      <td>NaN</td>\n",
       "      <td>NaN</td>\n",
       "      <td>NaN</td>\n",
       "      <td>NaN</td>\n",
       "      <td>NaN</td>\n",
       "    </tr>\n",
       "    <tr>\n",
       "      <th>Thriller</th>\n",
       "      <td>NaN</td>\n",
       "      <td>357.0</td>\n",
       "      <td>122</td>\n",
       "      <td>NaN</td>\n",
       "      <td>NaN</td>\n",
       "      <td>NaN</td>\n",
       "      <td>NaN</td>\n",
       "      <td>NaN</td>\n",
       "      <td>NaN</td>\n",
       "      <td>NaN</td>\n",
       "    </tr>\n",
       "  </tbody>\n",
       "</table>\n",
       "</div>"
      ],
      "text/plain": [
       "           2006_2016  1996_2006  1986_1996  1976_1986  1966_1976  1956_1966  \\\n",
       "Action           NaN        NaN        119       60.0        NaN        NaN   \n",
       "Adventure        NaN        NaN         77       56.0        NaN        NaN   \n",
       "Comedy         469.0      456.0        108        NaN        NaN        NaN   \n",
       "Crime            NaN        NaN         75        NaN        NaN        NaN   \n",
       "Drama          596.0      551.0        144       51.0       31.0       30.0   \n",
       "Romance          NaN        NaN         60        NaN        NaN        NaN   \n",
       "Thriller         NaN      357.0        122        NaN        NaN        NaN   \n",
       "\n",
       "           1946_1956  1936_1946  1916_1926  1926_1936  \n",
       "Action           NaN        NaN        NaN        NaN  \n",
       "Adventure        NaN        NaN        NaN        NaN  \n",
       "Comedy           NaN        NaN        NaN        NaN  \n",
       "Crime            NaN        NaN        NaN        NaN  \n",
       "Drama           15.0       14.0        2.0        6.0  \n",
       "Romance          NaN        NaN        NaN        NaN  \n",
       "Thriller         NaN        NaN        NaN        NaN  "
      ]
     },
     "execution_count": 69,
     "metadata": {},
     "output_type": "execute_result"
    }
   ],
   "source": [
    "df_top_genre"
   ]
  },
  {
   "cell_type": "code",
   "execution_count": 70,
   "id": "55f2c9a3",
   "metadata": {},
   "outputs": [],
   "source": [
    "df_top_genre = df_top_genre.fillna(0)"
   ]
  },
  {
   "cell_type": "code",
   "execution_count": 71,
   "id": "f310e36f",
   "metadata": {},
   "outputs": [],
   "source": [
    "df_top_genre.reset_index(inplace=True)"
   ]
  },
  {
   "cell_type": "code",
   "execution_count": 72,
   "id": "9aeaa2e5",
   "metadata": {},
   "outputs": [],
   "source": [
    "df_top_genre = df_top_genre.rename(columns={'index':'genre'})"
   ]
  },
  {
   "cell_type": "code",
   "execution_count": 98,
   "id": "bcdb8e49",
   "metadata": {},
   "outputs": [
    {
     "data": {
      "text/html": [
       "<div>\n",
       "<style scoped>\n",
       "    .dataframe tbody tr th:only-of-type {\n",
       "        vertical-align: middle;\n",
       "    }\n",
       "\n",
       "    .dataframe tbody tr th {\n",
       "        vertical-align: top;\n",
       "    }\n",
       "\n",
       "    .dataframe thead th {\n",
       "        text-align: right;\n",
       "    }\n",
       "</style>\n",
       "<table border=\"1\" class=\"dataframe\">\n",
       "  <thead>\n",
       "    <tr style=\"text-align: right;\">\n",
       "      <th></th>\n",
       "      <th>genre</th>\n",
       "      <th>2006_2016</th>\n",
       "      <th>1996_2006</th>\n",
       "      <th>1986_1996</th>\n",
       "      <th>1976_1986</th>\n",
       "      <th>1966_1976</th>\n",
       "      <th>1956_1966</th>\n",
       "      <th>1946_1956</th>\n",
       "      <th>1936_1946</th>\n",
       "      <th>1916_1926</th>\n",
       "      <th>1926_1936</th>\n",
       "    </tr>\n",
       "  </thead>\n",
       "  <tbody>\n",
       "    <tr>\n",
       "      <th>0</th>\n",
       "      <td>Action</td>\n",
       "      <td>0.0</td>\n",
       "      <td>0.0</td>\n",
       "      <td>119</td>\n",
       "      <td>60.0</td>\n",
       "      <td>0.0</td>\n",
       "      <td>0.0</td>\n",
       "      <td>0.0</td>\n",
       "      <td>0.0</td>\n",
       "      <td>0.0</td>\n",
       "      <td>0.0</td>\n",
       "    </tr>\n",
       "    <tr>\n",
       "      <th>1</th>\n",
       "      <td>Adventure</td>\n",
       "      <td>0.0</td>\n",
       "      <td>0.0</td>\n",
       "      <td>77</td>\n",
       "      <td>56.0</td>\n",
       "      <td>0.0</td>\n",
       "      <td>0.0</td>\n",
       "      <td>0.0</td>\n",
       "      <td>0.0</td>\n",
       "      <td>0.0</td>\n",
       "      <td>0.0</td>\n",
       "    </tr>\n",
       "    <tr>\n",
       "      <th>2</th>\n",
       "      <td>Comedy</td>\n",
       "      <td>469.0</td>\n",
       "      <td>456.0</td>\n",
       "      <td>108</td>\n",
       "      <td>0.0</td>\n",
       "      <td>0.0</td>\n",
       "      <td>0.0</td>\n",
       "      <td>0.0</td>\n",
       "      <td>0.0</td>\n",
       "      <td>0.0</td>\n",
       "      <td>0.0</td>\n",
       "    </tr>\n",
       "    <tr>\n",
       "      <th>3</th>\n",
       "      <td>Crime</td>\n",
       "      <td>0.0</td>\n",
       "      <td>0.0</td>\n",
       "      <td>75</td>\n",
       "      <td>0.0</td>\n",
       "      <td>0.0</td>\n",
       "      <td>0.0</td>\n",
       "      <td>0.0</td>\n",
       "      <td>0.0</td>\n",
       "      <td>0.0</td>\n",
       "      <td>0.0</td>\n",
       "    </tr>\n",
       "    <tr>\n",
       "      <th>4</th>\n",
       "      <td>Drama</td>\n",
       "      <td>596.0</td>\n",
       "      <td>551.0</td>\n",
       "      <td>144</td>\n",
       "      <td>51.0</td>\n",
       "      <td>31.0</td>\n",
       "      <td>30.0</td>\n",
       "      <td>15.0</td>\n",
       "      <td>14.0</td>\n",
       "      <td>2.0</td>\n",
       "      <td>6.0</td>\n",
       "    </tr>\n",
       "    <tr>\n",
       "      <th>5</th>\n",
       "      <td>Romance</td>\n",
       "      <td>0.0</td>\n",
       "      <td>0.0</td>\n",
       "      <td>60</td>\n",
       "      <td>0.0</td>\n",
       "      <td>0.0</td>\n",
       "      <td>0.0</td>\n",
       "      <td>0.0</td>\n",
       "      <td>0.0</td>\n",
       "      <td>0.0</td>\n",
       "      <td>0.0</td>\n",
       "    </tr>\n",
       "    <tr>\n",
       "      <th>6</th>\n",
       "      <td>Thriller</td>\n",
       "      <td>0.0</td>\n",
       "      <td>357.0</td>\n",
       "      <td>122</td>\n",
       "      <td>0.0</td>\n",
       "      <td>0.0</td>\n",
       "      <td>0.0</td>\n",
       "      <td>0.0</td>\n",
       "      <td>0.0</td>\n",
       "      <td>0.0</td>\n",
       "      <td>0.0</td>\n",
       "    </tr>\n",
       "  </tbody>\n",
       "</table>\n",
       "</div>"
      ],
      "text/plain": [
       "       genre  2006_2016  1996_2006  1986_1996  1976_1986  1966_1976  \\\n",
       "0     Action        0.0        0.0        119       60.0        0.0   \n",
       "1  Adventure        0.0        0.0         77       56.0        0.0   \n",
       "2     Comedy      469.0      456.0        108        0.0        0.0   \n",
       "3      Crime        0.0        0.0         75        0.0        0.0   \n",
       "4      Drama      596.0      551.0        144       51.0       31.0   \n",
       "5    Romance        0.0        0.0         60        0.0        0.0   \n",
       "6   Thriller        0.0      357.0        122        0.0        0.0   \n",
       "\n",
       "   1956_1966  1946_1956  1936_1946  1916_1926  1926_1936  \n",
       "0        0.0        0.0        0.0        0.0        0.0  \n",
       "1        0.0        0.0        0.0        0.0        0.0  \n",
       "2        0.0        0.0        0.0        0.0        0.0  \n",
       "3        0.0        0.0        0.0        0.0        0.0  \n",
       "4       30.0       15.0       14.0        2.0        6.0  \n",
       "5        0.0        0.0        0.0        0.0        0.0  \n",
       "6        0.0        0.0        0.0        0.0        0.0  "
      ]
     },
     "execution_count": 98,
     "metadata": {},
     "output_type": "execute_result"
    }
   ],
   "source": [
    "df_top_genre"
   ]
  },
  {
   "cell_type": "code",
   "execution_count": 145,
   "id": "f88ece11",
   "metadata": {},
   "outputs": [
    {
     "data": {
      "text/plain": [
       "<matplotlib.legend.Legend at 0x1e97f4de650>"
      ]
     },
     "execution_count": 145,
     "metadata": {},
     "output_type": "execute_result"
    },
    {
     "data": {
      "text/plain": [
       "<Figure size 3000x1500 with 0 Axes>"
      ]
     },
     "metadata": {},
     "output_type": "display_data"
    },
    {
     "data": {
      "image/png": "[encoded data removed]",
      "text/plain": [
       "<Figure size 640x480 with 1 Axes>"
      ]
     },
     "metadata": {},
     "output_type": "display_data"
    }
   ],
   "source": [
    "plt.figure(figsize=(10,5), dpi=300)\n",
    "colors = ['#ffba08', '#e85d04', '#9d0208', '#6a040f', '#d90429', '#0077b6', '#57cc99', '#6930c3', '#a7c957', '#48cae4']\n",
    "\n",
    "df_top_genre.plot(x = 'genre', y = ['1916_1926', '1926_1936', '1936_1946', '1946_1956', '1956_1966',\n",
    "                                    '1966_1976', '1976_1986', '1986_1996', '1996_2006', '2006_2016'], \n",
    "                  kind='bar', stacked = True, color=colors)\n",
    "\n",
    "plt.title('the dynamics of genres popularity', fontsize=10)\n",
    "plt.legend(title='years', loc=[1.02,0.5], fontsize=8)"
   ]
  },
  {
   "cell_type": "markdown",
   "id": "c69dbe44",
   "metadata": {},
   "source": [
    "При просмотре графика видно популярность драмы во все периоды, этот наблюдение было обасновано в предыдущем пункте. Начиная с конца 80ых, количество фильмов в жанре комедии начинает увеличиватся. Можно предположить, что это было связано с неопределенностью начала 2000ых годов, со страхом неизвестности нового тысячитетия и в целом со сложностями этого периода во всем мире. Комедийные фильмы выпускались как бы в противовес суровой действительности"
   ]
  },
  {
   "cell_type": "markdown",
   "id": "b134a266",
   "metadata": {},
   "source": [
    "Начиная с 70ых появляются фильмы в жанре экшена и приключений. Возможно, одной из причин популярности боевиков 80х стало то, что с конца 70ых годов американское кино окончательно начало трансформироваться в индустрию развлечений, так как драматические сценарии, трагические финалы начили приедаться зрителю и требовалось что-то новое"
   ]
  },
  {
   "cell_type": "markdown",
   "id": "dfccb3f1",
   "metadata": {},
   "source": [
    "# Заключение"
   ]
  },
  {
   "cell_type": "markdown",
   "id": "c1ec9dbe",
   "metadata": {},
   "source": [
    "За время исследования были проведены предобработка данных, разведочный анализ. В ходе разведовачного анализа данных были получены ответы на следующие вопросы:\n",
    "1. Какова средняя оценка по всем фильмам\n",
    "2. Какие фильмы наиболее популярны\n",
    "3. Какие фильмы наиболее прибыльны\n",
    "4. В каких жанрах чаще снимают \n",
    "5. Кто является лидером в кинопроизводстве\n",
    "6. Какова была тенденция популярности жанров по десятелетиям"
   ]
  }
 ],
 "metadata": {
  "kernelspec": {
   "display_name": "Python 3 (ipykernel)",
   "language": "python",
   "name": "python3"
  },
  "language_info": {
   "codemirror_mode": {
    "name": "ipython",
    "version": 3
   },
   "file_extension": ".py",
   "mimetype": "text/x-python",
   "name": "python",
   "nbconvert_exporter": "python",
   "pygments_lexer": "ipython3",
   "version": "3.11.3"
  }
 },
 "nbformat": 4,
 "nbformat_minor": 5
}
